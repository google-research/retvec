{
 "metadata": {
  "language_info": {
   "codemirror_mode": {
    "name": "ipython",
    "version": 3
   },
   "file_extension": ".py",
   "mimetype": "text/x-python",
   "name": "python",
   "nbconvert_exporter": "python",
   "pygments_lexer": "ipython3",
   "version": "3.8.10"
  },
  "orig_nbformat": 4,
  "kernelspec": {
   "name": "python3",
   "display_name": "Python 3.8.10 64-bit"
  },
  "interpreter": {
   "hash": "cada0c3e68bbe3038c05f3f13c34d05fb5411cc128b62a4a529880c33c3268c3"
  }
 },
 "nbformat": 4,
 "nbformat_minor": 2,
 "cells": [
  {
   "source": [
    "# List primes selection\n",
    "Leverage the results of `cli/prime_search.py` to find the minimal number of primes needed to have 0 collisions (if possible) for various embeddings size."
   ],
   "cell_type": "markdown",
   "metadata": {}
  },
  {
   "cell_type": "code",
   "execution_count": 9,
   "metadata": {},
   "outputs": [],
   "source": [
    "import json\n",
    "from time import time\n",
    "import numpy as np\n",
    "from tabulate import tabulate\n",
    "from collections import defaultdict\n",
    "from tqdm.auto import tqdm\n",
    "import pandas as pd\n",
    "import plotly.express as px\n",
    "from collections import defaultdict"
   ]
  },
  {
   "cell_type": "code",
   "execution_count": 10,
   "metadata": {},
   "outputs": [],
   "source": [
    "collisions = defaultdict(lambda: defaultdict(list))\n",
    "primes_lists = defaultdict(lambda: defaultdict(list))\n",
    "for l in open('data/best_primes.json'):\n",
    "    d = json.loads(l)\n",
    "    if d['alphabet'] != 55000:\n",
    "        continue\n",
    "    collisions[d['embedding']][d['num_primes']].append(d['collisions'])\n",
    "    primes_lists[d['embedding']][d['num_primes']].append(d['list'])"
   ]
  },
  {
   "cell_type": "code",
   "execution_count": 21,
   "metadata": {},
   "outputs": [],
   "source": [
    "emb_size = sorted([i for i in collisions.keys()])\n",
    "best_lists = defaultdict(lambda: defaultdict(list))\n",
    "records = []\n",
    "for es in emb_size:\n",
    "    rows = []\n",
    "    num_primes = sorted([i for i in collisions[es].keys()])\n",
    "    for p in num_primes:\n",
    "        data = collisions[es][p]\n",
    "        \n",
    "        records.append({\n",
    "            \"embedding_size\": es,\n",
    "            \"num_primes\": p,\n",
    "            \"min_collisions\": np.min(data),\n",
    "        })\n",
    "\n",
    "        # find the best lists\n",
    "        min_cols = np.min(data)\n",
    "        for idx, val in enumerate(data):\n",
    "            if val == min_cols:\n",
    "                best_lists[es][p].append(primes_lists[es][p][idx])"
   ]
  },
  {
   "cell_type": "code",
   "execution_count": 22,
   "metadata": {},
   "outputs": [
    {
     "output_type": "execute_result",
     "data": {
      "text/plain": [
       "   embedding_size  num_primes  min_collisions\n",
       "0              16           4           52484\n",
       "1              16           5           48133\n",
       "2              16           6           41030\n",
       "3              16           7           34139\n",
       "4              16           8           29008"
      ],
      "text/html": "<div>\n<style scoped>\n    .dataframe tbody tr th:only-of-type {\n        vertical-align: middle;\n    }\n\n    .dataframe tbody tr th {\n        vertical-align: top;\n    }\n\n    .dataframe thead th {\n        text-align: right;\n    }\n</style>\n<table border=\"1\" class=\"dataframe\">\n  <thead>\n    <tr style=\"text-align: right;\">\n      <th></th>\n      <th>embedding_size</th>\n      <th>num_primes</th>\n      <th>min_collisions</th>\n    </tr>\n  </thead>\n  <tbody>\n    <tr>\n      <th>0</th>\n      <td>16</td>\n      <td>4</td>\n      <td>52484</td>\n    </tr>\n    <tr>\n      <th>1</th>\n      <td>16</td>\n      <td>5</td>\n      <td>48133</td>\n    </tr>\n    <tr>\n      <th>2</th>\n      <td>16</td>\n      <td>6</td>\n      <td>41030</td>\n    </tr>\n    <tr>\n      <th>3</th>\n      <td>16</td>\n      <td>7</td>\n      <td>34139</td>\n    </tr>\n    <tr>\n      <th>4</th>\n      <td>16</td>\n      <td>8</td>\n      <td>29008</td>\n    </tr>\n  </tbody>\n</table>\n</div>"
     },
     "metadata": {},
     "execution_count": 22
    }
   ],
   "source": [
    "df = pd.DataFrame.from_records(records)\n",
    "df.head()"
   ]
  },
  {
   "cell_type": "code",
   "execution_count": 26,
   "metadata": {},
   "outputs": [
    {
     "output_type": "display_data",
     "data": {
      "application/vnd.plotly.v1+json": {
       "config": {
        "plotlyServerURL": "https://plot.ly"
       },
       "data": [
        {
         "hovertemplate": "embedding_size=16<br>num_primes=%{x}<br>min_collisions=%{y}<extra></extra>",
         "legendgroup": "16",
         "line": {
          "color": "#636efa",
          "dash": "solid"
         },
         "mode": "lines",
         "name": "16",
         "orientation": "v",
         "showlegend": true,
         "type": "scatter",
         "x": [
          4,
          5,
          6,
          7,
          8,
          9,
          10,
          11,
          12,
          13,
          14,
          15,
          16
         ],
         "xaxis": "x",
         "y": [
          52484,
          48133,
          41030,
          34139,
          29008,
          25305,
          23029,
          22247,
          22110,
          22492,
          22817,
          21669,
          21869
         ],
         "yaxis": "y"
        },
        {
         "hovertemplate": "embedding_size=24<br>num_primes=%{x}<br>min_collisions=%{y}<extra></extra>",
         "legendgroup": "24",
         "line": {
          "color": "#EF553B",
          "dash": "solid"
         },
         "mode": "lines",
         "name": "24",
         "orientation": "v",
         "showlegend": true,
         "type": "scatter",
         "x": [
          4,
          5,
          6,
          7,
          8,
          9,
          10,
          11,
          12,
          13,
          14,
          15,
          16
         ],
         "xaxis": "x",
         "y": [
          42307,
          21067,
          9014,
          3854,
          1805,
          984,
          539,
          368,
          270,
          202,
          167,
          142,
          115
         ],
         "yaxis": "y"
        },
        {
         "hovertemplate": "embedding_size=32<br>num_primes=%{x}<br>min_collisions=%{y}<extra></extra>",
         "legendgroup": "32",
         "line": {
          "color": "#00cc96",
          "dash": "solid"
         },
         "mode": "lines",
         "name": "32",
         "orientation": "v",
         "showlegend": true,
         "type": "scatter",
         "x": [
          4,
          5,
          6,
          7,
          8,
          9,
          10,
          11,
          12,
          13,
          14,
          15,
          16
         ],
         "xaxis": "x",
         "y": [
          24076,
          5975,
          1560,
          469,
          131,
          37,
          6,
          6,
          0,
          0,
          0,
          0,
          0
         ],
         "yaxis": "y"
        },
        {
         "hovertemplate": "embedding_size=40<br>num_primes=%{x}<br>min_collisions=%{y}<extra></extra>",
         "legendgroup": "40",
         "line": {
          "color": "#ab63fa",
          "dash": "solid"
         },
         "mode": "lines",
         "name": "40",
         "orientation": "v",
         "showlegend": true,
         "type": "scatter",
         "x": [
          4,
          5,
          6,
          7,
          8,
          9,
          10,
          11,
          12,
          13,
          14,
          15,
          16
         ],
         "xaxis": "x",
         "y": [
          11314,
          1981,
          364,
          40,
          8,
          1,
          0,
          0,
          0,
          0,
          0,
          0,
          0
         ],
         "yaxis": "y"
        },
        {
         "hovertemplate": "embedding_size=48<br>num_primes=%{x}<br>min_collisions=%{y}<extra></extra>",
         "legendgroup": "48",
         "line": {
          "color": "#FFA15A",
          "dash": "solid"
         },
         "mode": "lines",
         "name": "48",
         "orientation": "v",
         "showlegend": true,
         "type": "scatter",
         "x": [
          4,
          5,
          6,
          7,
          8,
          9,
          10,
          11,
          12,
          13,
          14,
          15,
          16
         ],
         "xaxis": "x",
         "y": [
          5222,
          600,
          65,
          8,
          0,
          0,
          0,
          0,
          0,
          0,
          0,
          0,
          0
         ],
         "yaxis": "y"
        }
       ],
       "layout": {
        "legend": {
         "title": {
          "text": "embedding_size"
         },
         "tracegroupgap": 0
        },
        "template": {
         "data": {
          "bar": [
           {
            "error_x": {
             "color": "#2a3f5f"
            },
            "error_y": {
             "color": "#2a3f5f"
            },
            "marker": {
             "line": {
              "color": "#E5ECF6",
              "width": 0.5
             }
            },
            "type": "bar"
           }
          ],
          "barpolar": [
           {
            "marker": {
             "line": {
              "color": "#E5ECF6",
              "width": 0.5
             }
            },
            "type": "barpolar"
           }
          ],
          "carpet": [
           {
            "aaxis": {
             "endlinecolor": "#2a3f5f",
             "gridcolor": "white",
             "linecolor": "white",
             "minorgridcolor": "white",
             "startlinecolor": "#2a3f5f"
            },
            "baxis": {
             "endlinecolor": "#2a3f5f",
             "gridcolor": "white",
             "linecolor": "white",
             "minorgridcolor": "white",
             "startlinecolor": "#2a3f5f"
            },
            "type": "carpet"
           }
          ],
          "choropleth": [
           {
            "colorbar": {
             "outlinewidth": 0,
             "ticks": ""
            },
            "type": "choropleth"
           }
          ],
          "contour": [
           {
            "colorbar": {
             "outlinewidth": 0,
             "ticks": ""
            },
            "colorscale": [
             [
              0,
              "#0d0887"
             ],
             [
              0.1111111111111111,
              "#46039f"
             ],
             [
              0.2222222222222222,
              "#7201a8"
             ],
             [
              0.3333333333333333,
              "#9c179e"
             ],
             [
              0.4444444444444444,
              "#bd3786"
             ],
             [
              0.5555555555555556,
              "#d8576b"
             ],
             [
              0.6666666666666666,
              "#ed7953"
             ],
             [
              0.7777777777777778,
              "#fb9f3a"
             ],
             [
              0.8888888888888888,
              "#fdca26"
             ],
             [
              1,
              "#f0f921"
             ]
            ],
            "type": "contour"
           }
          ],
          "contourcarpet": [
           {
            "colorbar": {
             "outlinewidth": 0,
             "ticks": ""
            },
            "type": "contourcarpet"
           }
          ],
          "heatmap": [
           {
            "colorbar": {
             "outlinewidth": 0,
             "ticks": ""
            },
            "colorscale": [
             [
              0,
              "#0d0887"
             ],
             [
              0.1111111111111111,
              "#46039f"
             ],
             [
              0.2222222222222222,
              "#7201a8"
             ],
             [
              0.3333333333333333,
              "#9c179e"
             ],
             [
              0.4444444444444444,
              "#bd3786"
             ],
             [
              0.5555555555555556,
              "#d8576b"
             ],
             [
              0.6666666666666666,
              "#ed7953"
             ],
             [
              0.7777777777777778,
              "#fb9f3a"
             ],
             [
              0.8888888888888888,
              "#fdca26"
             ],
             [
              1,
              "#f0f921"
             ]
            ],
            "type": "heatmap"
           }
          ],
          "heatmapgl": [
           {
            "colorbar": {
             "outlinewidth": 0,
             "ticks": ""
            },
            "colorscale": [
             [
              0,
              "#0d0887"
             ],
             [
              0.1111111111111111,
              "#46039f"
             ],
             [
              0.2222222222222222,
              "#7201a8"
             ],
             [
              0.3333333333333333,
              "#9c179e"
             ],
             [
              0.4444444444444444,
              "#bd3786"
             ],
             [
              0.5555555555555556,
              "#d8576b"
             ],
             [
              0.6666666666666666,
              "#ed7953"
             ],
             [
              0.7777777777777778,
              "#fb9f3a"
             ],
             [
              0.8888888888888888,
              "#fdca26"
             ],
             [
              1,
              "#f0f921"
             ]
            ],
            "type": "heatmapgl"
           }
          ],
          "histogram": [
           {
            "marker": {
             "colorbar": {
              "outlinewidth": 0,
              "ticks": ""
             }
            },
            "type": "histogram"
           }
          ],
          "histogram2d": [
           {
            "colorbar": {
             "outlinewidth": 0,
             "ticks": ""
            },
            "colorscale": [
             [
              0,
              "#0d0887"
             ],
             [
              0.1111111111111111,
              "#46039f"
             ],
             [
              0.2222222222222222,
              "#7201a8"
             ],
             [
              0.3333333333333333,
              "#9c179e"
             ],
             [
              0.4444444444444444,
              "#bd3786"
             ],
             [
              0.5555555555555556,
              "#d8576b"
             ],
             [
              0.6666666666666666,
              "#ed7953"
             ],
             [
              0.7777777777777778,
              "#fb9f3a"
             ],
             [
              0.8888888888888888,
              "#fdca26"
             ],
             [
              1,
              "#f0f921"
             ]
            ],
            "type": "histogram2d"
           }
          ],
          "histogram2dcontour": [
           {
            "colorbar": {
             "outlinewidth": 0,
             "ticks": ""
            },
            "colorscale": [
             [
              0,
              "#0d0887"
             ],
             [
              0.1111111111111111,
              "#46039f"
             ],
             [
              0.2222222222222222,
              "#7201a8"
             ],
             [
              0.3333333333333333,
              "#9c179e"
             ],
             [
              0.4444444444444444,
              "#bd3786"
             ],
             [
              0.5555555555555556,
              "#d8576b"
             ],
             [
              0.6666666666666666,
              "#ed7953"
             ],
             [
              0.7777777777777778,
              "#fb9f3a"
             ],
             [
              0.8888888888888888,
              "#fdca26"
             ],
             [
              1,
              "#f0f921"
             ]
            ],
            "type": "histogram2dcontour"
           }
          ],
          "mesh3d": [
           {
            "colorbar": {
             "outlinewidth": 0,
             "ticks": ""
            },
            "type": "mesh3d"
           }
          ],
          "parcoords": [
           {
            "line": {
             "colorbar": {
              "outlinewidth": 0,
              "ticks": ""
             }
            },
            "type": "parcoords"
           }
          ],
          "pie": [
           {
            "automargin": true,
            "type": "pie"
           }
          ],
          "scatter": [
           {
            "marker": {
             "colorbar": {
              "outlinewidth": 0,
              "ticks": ""
             }
            },
            "type": "scatter"
           }
          ],
          "scatter3d": [
           {
            "line": {
             "colorbar": {
              "outlinewidth": 0,
              "ticks": ""
             }
            },
            "marker": {
             "colorbar": {
              "outlinewidth": 0,
              "ticks": ""
             }
            },
            "type": "scatter3d"
           }
          ],
          "scattercarpet": [
           {
            "marker": {
             "colorbar": {
              "outlinewidth": 0,
              "ticks": ""
             }
            },
            "type": "scattercarpet"
           }
          ],
          "scattergeo": [
           {
            "marker": {
             "colorbar": {
              "outlinewidth": 0,
              "ticks": ""
             }
            },
            "type": "scattergeo"
           }
          ],
          "scattergl": [
           {
            "marker": {
             "colorbar": {
              "outlinewidth": 0,
              "ticks": ""
             }
            },
            "type": "scattergl"
           }
          ],
          "scattermapbox": [
           {
            "marker": {
             "colorbar": {
              "outlinewidth": 0,
              "ticks": ""
             }
            },
            "type": "scattermapbox"
           }
          ],
          "scatterpolar": [
           {
            "marker": {
             "colorbar": {
              "outlinewidth": 0,
              "ticks": ""
             }
            },
            "type": "scatterpolar"
           }
          ],
          "scatterpolargl": [
           {
            "marker": {
             "colorbar": {
              "outlinewidth": 0,
              "ticks": ""
             }
            },
            "type": "scatterpolargl"
           }
          ],
          "scatterternary": [
           {
            "marker": {
             "colorbar": {
              "outlinewidth": 0,
              "ticks": ""
             }
            },
            "type": "scatterternary"
           }
          ],
          "surface": [
           {
            "colorbar": {
             "outlinewidth": 0,
             "ticks": ""
            },
            "colorscale": [
             [
              0,
              "#0d0887"
             ],
             [
              0.1111111111111111,
              "#46039f"
             ],
             [
              0.2222222222222222,
              "#7201a8"
             ],
             [
              0.3333333333333333,
              "#9c179e"
             ],
             [
              0.4444444444444444,
              "#bd3786"
             ],
             [
              0.5555555555555556,
              "#d8576b"
             ],
             [
              0.6666666666666666,
              "#ed7953"
             ],
             [
              0.7777777777777778,
              "#fb9f3a"
             ],
             [
              0.8888888888888888,
              "#fdca26"
             ],
             [
              1,
              "#f0f921"
             ]
            ],
            "type": "surface"
           }
          ],
          "table": [
           {
            "cells": {
             "fill": {
              "color": "#EBF0F8"
             },
             "line": {
              "color": "white"
             }
            },
            "header": {
             "fill": {
              "color": "#C8D4E3"
             },
             "line": {
              "color": "white"
             }
            },
            "type": "table"
           }
          ]
         },
         "layout": {
          "annotationdefaults": {
           "arrowcolor": "#2a3f5f",
           "arrowhead": 0,
           "arrowwidth": 1
          },
          "autotypenumbers": "strict",
          "coloraxis": {
           "colorbar": {
            "outlinewidth": 0,
            "ticks": ""
           }
          },
          "colorscale": {
           "diverging": [
            [
             0,
             "#8e0152"
            ],
            [
             0.1,
             "#c51b7d"
            ],
            [
             0.2,
             "#de77ae"
            ],
            [
             0.3,
             "#f1b6da"
            ],
            [
             0.4,
             "#fde0ef"
            ],
            [
             0.5,
             "#f7f7f7"
            ],
            [
             0.6,
             "#e6f5d0"
            ],
            [
             0.7,
             "#b8e186"
            ],
            [
             0.8,
             "#7fbc41"
            ],
            [
             0.9,
             "#4d9221"
            ],
            [
             1,
             "#276419"
            ]
           ],
           "sequential": [
            [
             0,
             "#0d0887"
            ],
            [
             0.1111111111111111,
             "#46039f"
            ],
            [
             0.2222222222222222,
             "#7201a8"
            ],
            [
             0.3333333333333333,
             "#9c179e"
            ],
            [
             0.4444444444444444,
             "#bd3786"
            ],
            [
             0.5555555555555556,
             "#d8576b"
            ],
            [
             0.6666666666666666,
             "#ed7953"
            ],
            [
             0.7777777777777778,
             "#fb9f3a"
            ],
            [
             0.8888888888888888,
             "#fdca26"
            ],
            [
             1,
             "#f0f921"
            ]
           ],
           "sequentialminus": [
            [
             0,
             "#0d0887"
            ],
            [
             0.1111111111111111,
             "#46039f"
            ],
            [
             0.2222222222222222,
             "#7201a8"
            ],
            [
             0.3333333333333333,
             "#9c179e"
            ],
            [
             0.4444444444444444,
             "#bd3786"
            ],
            [
             0.5555555555555556,
             "#d8576b"
            ],
            [
             0.6666666666666666,
             "#ed7953"
            ],
            [
             0.7777777777777778,
             "#fb9f3a"
            ],
            [
             0.8888888888888888,
             "#fdca26"
            ],
            [
             1,
             "#f0f921"
            ]
           ]
          },
          "colorway": [
           "#636efa",
           "#EF553B",
           "#00cc96",
           "#ab63fa",
           "#FFA15A",
           "#19d3f3",
           "#FF6692",
           "#B6E880",
           "#FF97FF",
           "#FECB52"
          ],
          "font": {
           "color": "#2a3f5f"
          },
          "geo": {
           "bgcolor": "white",
           "lakecolor": "white",
           "landcolor": "#E5ECF6",
           "showlakes": true,
           "showland": true,
           "subunitcolor": "white"
          },
          "hoverlabel": {
           "align": "left"
          },
          "hovermode": "closest",
          "mapbox": {
           "style": "light"
          },
          "paper_bgcolor": "white",
          "plot_bgcolor": "#E5ECF6",
          "polar": {
           "angularaxis": {
            "gridcolor": "white",
            "linecolor": "white",
            "ticks": ""
           },
           "bgcolor": "#E5ECF6",
           "radialaxis": {
            "gridcolor": "white",
            "linecolor": "white",
            "ticks": ""
           }
          },
          "scene": {
           "xaxis": {
            "backgroundcolor": "#E5ECF6",
            "gridcolor": "white",
            "gridwidth": 2,
            "linecolor": "white",
            "showbackground": true,
            "ticks": "",
            "zerolinecolor": "white"
           },
           "yaxis": {
            "backgroundcolor": "#E5ECF6",
            "gridcolor": "white",
            "gridwidth": 2,
            "linecolor": "white",
            "showbackground": true,
            "ticks": "",
            "zerolinecolor": "white"
           },
           "zaxis": {
            "backgroundcolor": "#E5ECF6",
            "gridcolor": "white",
            "gridwidth": 2,
            "linecolor": "white",
            "showbackground": true,
            "ticks": "",
            "zerolinecolor": "white"
           }
          },
          "shapedefaults": {
           "line": {
            "color": "#2a3f5f"
           }
          },
          "ternary": {
           "aaxis": {
            "gridcolor": "white",
            "linecolor": "white",
            "ticks": ""
           },
           "baxis": {
            "gridcolor": "white",
            "linecolor": "white",
            "ticks": ""
           },
           "bgcolor": "#E5ECF6",
           "caxis": {
            "gridcolor": "white",
            "linecolor": "white",
            "ticks": ""
           }
          },
          "title": {
           "x": 0.05
          },
          "xaxis": {
           "automargin": true,
           "gridcolor": "white",
           "linecolor": "white",
           "ticks": "",
           "title": {
            "standoff": 15
           },
           "zerolinecolor": "white",
           "zerolinewidth": 2
          },
          "yaxis": {
           "automargin": true,
           "gridcolor": "white",
           "linecolor": "white",
           "ticks": "",
           "title": {
            "standoff": 15
           },
           "zerolinecolor": "white",
           "zerolinewidth": 2
          }
         }
        },
        "title": {
         "text": "Collisions vs num Primes"
        },
        "xaxis": {
         "anchor": "y",
         "domain": [
          0,
          1
         ],
         "title": {
          "text": "num_primes"
         }
        },
        "yaxis": {
         "anchor": "x",
         "domain": [
          0,
          1
         ],
         "title": {
          "text": "min_collisions"
         },
         "type": "log"
        }
       }
      }
     },
     "metadata": {}
    }
   ],
   "source": [
    "px.line(df, x='num_primes', y='min_collisions', color='embedding_size',\n",
    "title=\"Collisions vs num Primes\", log_y=True)"
   ]
  },
  {
   "source": [
    "## list the best primes list"
   ],
   "cell_type": "markdown",
   "metadata": {}
  },
  {
   "cell_type": "code",
   "execution_count": 28,
   "metadata": {},
   "outputs": [
    {
     "output_type": "stream",
     "name": "stdout",
     "text": [
      "\n16\n\n                                                                                                     num primes\n--  -----  ----------------------------------------------------------------------------------------  ---------------------\n 4  52484  [19, 23, 1627, 2243]                                                                      [17, 23, 1051, 19001]\n 5  48133  [17, 31, 97, 56041, 372979]\n 6  41030  [19, 29, 1019, 1229, 1747, 2293]\n 7  34139  [17, 73, 109, 113, 227, 1217, 1291]\n 8  29008  [17, 19, 41, 419, 1427, 2267, 2311, 2417]\n 9  25305  [17, 19, 73, 89, 127, 137, 661, 2239, 2383]\n10  23029  [17, 19, 47, 61, 67, 73, 139, 149, 269, 1327]\n11  22247  [17, 19, 31, 43, 47, 59, 61, 349, 1549, 30859, 48733]\n12  22110  [17, 19, 29, 31, 43, 59, 67, 97, 15077, 58543, 59809, 158563]\n13  22492  [17, 47, 59, 61, 107, 113, 127, 283, 593, 58193, 73517, 88379, 137443]\n14  22817  [19, 37, 43, 53, 61, 311, 419, 1321, 2087, 47969, 53441, 82279, 88589, 329111]\n15  21669  [17, 19, 23, 43, 47, 61, 79, 131, 2851, 61253, 70619, 82307, 124309, 190027, 264779]\n16  21869  [17, 19, 29, 41, 47, 97, 109, 181, 467, 1327, 2557, 47819, 74051, 87973, 412031, 432277]\n\n24\n\n           num primes\n--  -----  -----------------------------------------------------------------------------\n 4  42307  [73, 257, 4507, 287059]\n 5  21067  [23, 313, 2917, 54547, 436313]\n 6   9014  [19, 103, 109, 149, 787, 853]\n 7   3854  [47, 67, 109, 131, 1229, 1303, 2749]\n 8   1805  [23, 29, 53, 89, 239, 1129, 22861, 142049]\n 9    984  [17, 23, 41, 59, 61, 97, 467, 48281, 55337]\n10    539  [23, 29, 31, 47, 89, 137, 631, 1499, 2027, 2699]\n11    368  [19, 31, 43, 47, 59, 61, 67, 71, 97, 227, 919]\n12    270  [23, 29, 31, 37, 53, 61, 67, 79, 97, 131, 1009, 39857]\n13    202  [17, 23, 29, 37, 41, 43, 59, 103, 109, 113, 131, 137, 647]\n14    167  [17, 19, 23, 29, 41, 53, 71, 97, 103, 139, 641, 769, 110273, 146323]\n15    142  [23, 29, 37, 41, 53, 61, 73, 101, 103, 127, 131, 137, 1259, 2677, 2963]\n16    115  [19, 23, 29, 41, 43, 53, 83, 89, 107, 113, 131, 137, 149, 743, 11981, 380839]\n\n32\n\n           num primes\n--  -----  -------------------------------------------------------------------\n 4  24076  [79, 2879, 26849, 478729]\n 5   5975  [31, 43, 2591, 64969, 476977]\n 6   1560  [23, 37, 97, 223, 26161, 74857]\n 7    469  [23, 29, 47, 241, 1663, 28627, 391631]\n 8    131  [29, 31, 53, 97, 181, 883, 1667, 156119]\n 9     37  [23, 31, 43, 109, 127, 149, 157, 1997, 2251]\n10      6  [19, 23, 29, 47, 67, 103, 109, 127, 211, 2833]\n11      6  [29, 31, 47, 61, 67, 73, 79, 83, 89, 58427, 185363]\n12      0  [17, 31, 37, 47, 67, 79, 89, 139, 149, 1613, 2141, 114809]\n13      0  [19, 23, 31, 37, 67, 83, 107, 109, 131, 139, 149, 283, 1109]\n14      0  [19, 23, 29, 43, 59, 83, 97, 101, 107, 109, 113, 131, 991, 2287]\n15      0  [17, 23, 29, 31, 37, 47, 59, 61, 71, 79, 83, 103, 149, 797, 1451]\n16      0  [17, 19, 29, 31, 37, 41, 43, 47, 53, 61, 79, 83, 97, 127, 131, 137]\n\n40\n\n           num primes\n--  -----  ----------------------------------------------------------------------\n 4  11314  [37, 127, 137, 432721]\n 5   1981  [41, 47, 53, 2411, 28283]\n 6    364  [41, 43, 61, 599, 911, 1811]\n 7     40  [31, 41, 47, 467, 1163, 1951, 2099]\n 8      8  [41, 47, 53, 59, 61, 67, 1297, 2953]\n 9      1  [29, 37, 43, 53, 59, 79, 97, 337, 1747]\n10      0  [19, 29, 37, 61, 67, 71, 73, 83, 89, 1789]\n11      0  [17, 23, 31, 37, 53, 59, 67, 71, 83, 89, 499]\n12      0  [19, 43, 53, 59, 61, 67, 71, 73, 79, 83, 89, 1861]\n13      0  [19, 23, 29, 47, 67, 73, 83, 97, 101, 131, 139, 2797, 2861]\n14      0  [19, 23, 29, 53, 59, 61, 71, 73, 83, 101, 103, 107, 113, 137]\n15      0  [23, 41, 43, 53, 59, 67, 71, 73, 79, 83, 103, 107, 127, 131, 139]\n16      0  [17, 19, 23, 37, 59, 61, 67, 71, 73, 83, 101, 109, 127, 131, 139, 149]\n\n48\n\n          num primes\n--  ----  ---------------------------------------------------------------------\n 4  5222  [43, 263, 47293, 418739]\n 5   600  [41, 71, 109, 139, 587]\n 6    65  [41, 47, 83, 149, 86297, 90403]\n 7     8  [41, 47, 89, 97, 113, 11863, 308501]\n 8     0  [31, 43, 59, 61, 89, 199, 941, 66343]\n 9     0  [29, 37, 41, 47, 53, 73, 79, 997, 1609]\n10     0  [17, 43, 53, 61, 67, 71, 73, 83, 601, 683]\n11     0  [23, 41, 43, 47, 53, 59, 67, 71, 73, 79, 83]\n12     0  [17, 19, 31, 41, 43, 59, 61, 67, 71, 73, 83, 89]\n13     0  [17, 23, 31, 37, 41, 53, 67, 83, 101, 107, 109, 137, 139]\n14     0  [31, 53, 59, 61, 67, 71, 73, 79, 89, 97, 101, 103, 107, 109]\n15     0  [19, 23, 31, 43, 47, 61, 71, 73, 79, 97, 109, 127, 131, 137, 149]\n16     0  [29, 31, 37, 43, 47, 53, 59, 67, 71, 73, 97, 101, 103, 127, 139, 149]\n"
     ]
    }
   ],
   "source": [
    "emb_size = sorted([i for i in collisions.keys()])\n",
    "for es in emb_size:\n",
    "    rows = []\n",
    "    num_primes = sorted([i for i in collisions[es].keys()])\n",
    "    for p in num_primes:\n",
    "        data = best_lists[es][p]\n",
    "\n",
    "        rows.append([p, np.min(collisions[es][p])] + [ sorted(l) for l in best_lists[es][p]])\n",
    "        \n",
    "    print(\"\\n%s\\n\" % es)\n",
    "    print(tabulate(rows, headers=['num primes', ]))"
   ]
  },
  {
   "cell_type": "code",
   "execution_count": null,
   "metadata": {},
   "outputs": [],
   "source": [
    "[19, 23, 29, 41, 43, 53, 83, 89, 107, 113, 131, 137, 149, 743, 11981, 380839]\n",
    "\n",
    "[17, 31, 37, 47, 67, 79, 89, 139, 149, 1613, 2141, 114809]\n",
    "[31, 43, 59, 61, 89, 199, 941, 66343]\n"
   ]
  }
 ]
}