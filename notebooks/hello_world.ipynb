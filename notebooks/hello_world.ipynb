{
 "cells": [
  {
   "cell_type": "code",
   "execution_count": 1,
   "metadata": {},
   "outputs": [],
   "source": [
    "import tensorflow as tf\n",
    "from time import time\n",
    "from tensorflow.keras import metrics\n",
    "from tqdm.auto import tqdm\n",
    "import numpy as np\n",
    "import matplotlib.pyplot as plt\n",
    "from pathlib import Path\n",
    "from tensorflow.keras.optimizers import Adam\n",
    "from tensorflow.keras import layers\n",
    "from datasets import load_dataset\n",
    "from tabulate import tabulate"
   ]
  },
  {
   "cell_type": "code",
   "execution_count": 2,
   "metadata": {},
   "outputs": [],
   "source": [
    "# load our own package\n",
    "from retvec.utils import tf_cap_memory\n",
    "from retvec import RetVec"
   ]
  },
  {
   "cell_type": "code",
   "execution_count": 3,
   "metadata": {},
   "outputs": [],
   "source": [
    "# cap tf\n",
    "tf_cap_memory()"
   ]
  },
  {
   "cell_type": "markdown",
   "metadata": {},
   "source": []
  },
  {
   "cell_type": "code",
   "execution_count": 4,
   "metadata": {},
   "outputs": [],
   "source": [
    "MAX_LEN = 128\n",
    "BATCH_SIZE = 128"
   ]
  },
  {
   "cell_type": "code",
   "execution_count": 5,
   "metadata": {},
   "outputs": [
    {
     "name": "stderr",
     "output_type": "stream",
     "text": [
      "Using custom data configuration default\n",
      "Reusing dataset ag_news (C:\\Users\\elie\\.cache\\huggingface\\datasets\\ag_news\\default\\0.0.0\\bc2bcb40336ace1a0374767fc29bb0296cdaf8a6da7298436239c54d79180548)\n",
      "100%|██████████| 2/2 [00:00<00:00, 500.07it/s]\n"
     ]
    }
   ],
   "source": [
    "dataset = load_dataset('ag_news')"
   ]
  },
  {
   "cell_type": "code",
   "execution_count": 6,
   "metadata": {},
   "outputs": [],
   "source": [
    "NUM_LABELS = 4\n",
    "x_train = tf.constant(dataset['train']['text'], dtype=tf.string)\n",
    "y_train = tf.one_hot(dataset['train']['label'], NUM_LABELS)\n",
    "x_test = tf.constant(dataset['test']['text'], dtype=tf.string)\n",
    "y_test = tf.one_hot(dataset['test']['label'], NUM_LABELS)\n",
    "\n",
    "# BATCH SIZE\n",
    "m_train = len(x_train) // BATCH_SIZE\n",
    "x_train = x_train[:m_train * BATCH_SIZE]\n",
    "y_train = y_train[:m_train * BATCH_SIZE]\n",
    "\n",
    "m_test = len(x_test) // BATCH_SIZE\n",
    "x_test = x_test[:m_test * BATCH_SIZE]\n",
    "y_test = y_test[:m_test * BATCH_SIZE]"
   ]
  },
  {
   "cell_type": "code",
   "execution_count": 7,
   "metadata": {},
   "outputs": [],
   "source": [
    "import tensorflow as tf\n",
    "import numpy as np\n",
    "\n",
    "\n",
    "import numpy as np\n",
    "import tensorflow as tf\n",
    "\n",
    "\n",
    "class FourierFeatureProjection2(tf.keras.layers.Layer):\n",
    "\n",
    "    def __init__(self, gaussian_projection: int, gaussian_scale: float = 1.0, **kwargs):\n",
    "        \"\"\"\n",
    "        Fourier Feature Projection layer from the paper:\n",
    "        [Fourier Features Let Networks Learn High Frequency Functions in Low Dimensional Domains](https://arxiv.org/abs/2006.10739)\n",
    "        Add this layer immediately after the input layer.\n",
    "        Args:\n",
    "            gaussian_projection: Projection dimension for the gaussian kernel in fourier feature\n",
    "                projection layer. Can be negative or positive integer.\n",
    "                If <=0, uses identity matrix (basic projection) without gaussian kernel.\n",
    "                If >=1, uses gaussian projection matrix of specified dim.\n",
    "            gaussian_scale: Scale of the gaussian kernel in fourier feature projection layer.\n",
    "                Note: If the scale is too small, convergence will slow down and obtain poor results.\n",
    "                If the scale is too large (>50), convergence will be fast but results will be grainy.\n",
    "                Try grid search for scales in the range [10 - 50].\n",
    "        \"\"\"\n",
    "        super().__init__(**kwargs)\n",
    "\n",
    "        if 'dtype' in kwargs:\n",
    "            self._kernel_dtype = kwargs['dtype']\n",
    "        else:\n",
    "            self._kernel_dtype = None\n",
    "\n",
    "        gaussian_projection = int(gaussian_projection)\n",
    "        gaussian_scale = float(gaussian_scale)\n",
    "\n",
    "        self.gauss_proj = gaussian_projection\n",
    "        self.gauss_scale = gaussian_scale\n",
    "\n",
    "    def build(self, input_shape):\n",
    "        # assume channel dim is always at last location\n",
    "        input_dim = input_shape[-1]\n",
    "\n",
    "        if self.gauss_proj <= 0:\n",
    "            # Assume basic projection\n",
    "            self.proj_kernel = tf.keras.layers.Dense(input_dim, use_bias=False, trainable=False,\n",
    "                                                     kernel_initializer='identity', dtype=self._kernel_dtype)\n",
    "\n",
    "        else:\n",
    "            initializer = tf.keras.initializers.TruncatedNormal(mean=0.0, stddev=self.gauss_scale)\n",
    "            self.proj_kernel = tf.keras.layers.Dense(self.gauss_proj, use_bias=False, trainable=False,\n",
    "                                                     kernel_initializer=initializer, dtype=self._kernel_dtype)\n",
    "\n",
    "        self.built = True\n",
    "\n",
    "    def call(self, inputs, **kwargs):\n",
    "        x_proj = 2.0 * np.pi * inputs\n",
    "        x_proj = self.proj_kernel(x_proj)\n",
    "\n",
    "        x_proj_sin = tf.sin(x_proj)\n",
    "        # x_proj_sin = tf.keras.layers.Activation('sigmoid')(x_proj)\n",
    "        # x_proj_cos = tf.cos(x_proj)\n",
    "        x_proj_cos = tf.keras.layers.Activation('softsign')(x_proj)\n",
    "        output = tf.concat([x_proj_sin, x_proj_cos], axis=-1)\n",
    "        return output\n",
    "\n",
    "    def get_config(self):\n",
    "        config = {\n",
    "            'gaussian_projection': self.gauss_proj,\n",
    "            'gaussian_scale': self.gauss_scale\n",
    "        }\n",
    "        base_config = super().get_config()\n",
    "        return dict(list(base_config.items()) + list(config.items()))"
   ]
  },
  {
   "cell_type": "markdown",
   "metadata": {},
   "source": []
  },
  {
   "cell_type": "code",
   "execution_count": 14,
   "metadata": {},
   "outputs": [],
   "source": [
    "from retvec.projection import FourierFeatureProjection\n",
    "\n",
    "def get_model(dim, depth, model, max_len, num_labels, trainable, fourier=False):\n",
    "     print(\"Model\", model)\n",
    "     print(\"Trainable\", trainable)\n",
    "     inputs = layers.Input(shape=(1, ), name=\"token\", dtype=tf.string)\n",
    "     x = RetVec(max_len=max_len, model=model, trainable=trainable)(inputs)\n",
    "     if fourier:\n",
    "          x = FourierFeatureProjection(gaussian_projection_dim=256, \n",
    "                                       gaussian_scale=10,\n",
    "                                       activations=['sin', 'softsign'])(x)\n",
    "\n",
    "     # seems to help with mixnet not LSTM\n",
    "     # x = x + 1\n",
    "     # x = x // 2\n",
    "    \n",
    "     x = layers.BatchNormalization()(x)\n",
    "     # x = layers.LayerNormalization()(x)\n",
    "     # for _ in range(depth):\n",
    "     #      x = MixerBlock(max_len=max_len, encoder_dim=dim, hidden_dim=dim, \n",
    "     #                     activation='softsign')(x) \n",
    "     # x = layers.GlobalAveragePooling1D()(x)\n",
    "     \n",
    "     for _ in range(depth - 1):\n",
    "          x = tf.keras.layers.Bidirectional(tf.keras.layers.LSTM(dim, return_sequences=True))(x)\n",
    "     x = tf.keras.layers.Bidirectional(tf.keras.layers.LSTM(dim))(x)\n",
    "     outputs = layers.Dense(num_labels, activation='softmax')(x)\n",
    "     test_model = tf.keras.Model(inputs, outputs)\n",
    "     test_model.summary()\n",
    "     return test_model"
   ]
  },
  {
   "cell_type": "code",
   "execution_count": 16,
   "metadata": {},
   "outputs": [
    {
     "name": "stdout",
     "output_type": "stream",
     "text": [
      "Model None\n",
      "Trainable False\n",
      "Model: \"model_3\"\n",
      "_________________________________________________________________\n",
      " Layer (type)                Output Shape              Param #   \n",
      "=================================================================\n",
      " token (InputLayer)          [(None, 1)]               0         \n",
      "                                                                 \n",
      " ret_vec_3 (RetVec)          (None, 128, 256)          0         \n",
      "                                                                 \n",
      " fourier_feature_projection_  (None, 128, 512)         65536     \n",
      " 3 (FourierFeatureProjection                                     \n",
      " )                                                               \n",
      "                                                                 \n",
      " batch_normalization_3 (Batc  (None, 128, 512)         2048      \n",
      " hNormalization)                                                 \n",
      "                                                                 \n",
      " bidirectional_3 (Bidirectio  (None, 128)              295424    \n",
      " nal)                                                            \n",
      "                                                                 \n",
      " dense_7 (Dense)             (None, 4)                 516       \n",
      "                                                                 \n",
      "=================================================================\n",
      "Total params: 363,524\n",
      "Trainable params: 296,964\n",
      "Non-trainable params: 66,560\n",
      "_________________________________________________________________\n",
      "Epoch 1/2\n",
      "937/937 [==============================] - 23s 23ms/step - loss: 0.5010 - acc: 0.8114 - val_loss: 0.3543 - val_acc: 0.8746\n",
      "Epoch 2/2\n",
      "937/937 [==============================] - 21s 22ms/step - loss: 0.2733 - acc: 0.9043 - val_loss: 0.3064 - val_acc: 0.8941\n"
     ]
    }
   ],
   "source": [
    "EPOCHS = 2\n",
    "# mix\n",
    "# DIMS = 256  # same size as the tokens\n",
    "# DEPTH = 6\n",
    "\n",
    "# LSTM\n",
    "DIMS = 64\n",
    "DEPTH = 1\n",
    "\n",
    "MODEL = '../tmp/cnn_auto_model/'\n",
    "MODEL = '../tmp/mix_auto_model'\n",
    "MODEL = '../tmp/bert_auto_model'\n",
    "#MODEL  = None\n",
    "EMBEDDING_TRAINABLE = False\n",
    "\n",
    "test_model = get_model(DIMS, DEPTH, None, MAX_LEN, NUM_LABELS, EMBEDDING_TRAINABLE, fourier=True)\n",
    "test_model.compile('adam', loss='categorical_crossentropy', metrics=['acc'])\n",
    "neural_history = test_model.fit(x_train, y_train, epochs=EPOCHS, batch_size=BATCH_SIZE , validation_data=(x_test, y_test))"
   ]
  },
  {
   "cell_type": "code",
   "execution_count": null,
   "metadata": {},
   "outputs": [],
   "source": [
    "# Neural 2\n",
    "Epoch 1/2\n",
    "937/937 [==============================] - 23s 23ms/step - loss: 0.4994 - acc: 0.8123 - val_loss: 0.3630 - val_acc: 0.8706\n",
    "Epoch 2/2\n",
    "937/937 [==============================] - 21s 22ms/step - loss: 0.2691 - acc: 0.9061 - val_loss: 0.3157 - val_acc: 0.8909\n",
    "\n",
    "\n",
    "# 256, 10\n",
    "937/937 [==============================] - 22s 22ms/step - loss: 0.5332 - acc: 0.7979 - val_loss: 0.3890 - val_acc: 0.8607\n",
    "Epoch 2/2\n",
    "937/937 [==============================] - 20s 21ms/step - loss: 0.2939 - acc: 0.8965 - val_loss: 0.3249 - val_acc: 0.8889"
   ]
  },
  {
   "cell_type": "code",
   "execution_count": null,
   "metadata": {},
   "outputs": [
    {
     "name": "stdout",
     "output_type": "stream",
     "text": [
      "Model None\n",
      "Trainable False\n",
      "Model: \"model_10\"\n",
      "_________________________________________________________________\n",
      " Layer (type)                Output Shape              Param #   \n",
      "=================================================================\n",
      " token (InputLayer)          [(None, 1)]               0         \n",
      "                                                                 \n",
      " ret_vec_10 (RetVec)         (None, 128, 256)          0         \n",
      "                                                                 \n",
      " batch_normalization_10 (Bat  (None, 128, 256)         1024      \n",
      " chNormalization)                                                \n",
      "                                                                 \n",
      " bidirectional_10 (Bidirecti  (None, 128)              164352    \n",
      " onal)                                                           \n",
      "                                                                 \n",
      " dense_10 (Dense)            (None, 4)                 516       \n",
      "                                                                 \n",
      "=================================================================\n",
      "Total params: 165,892\n",
      "Trainable params: 165,380\n",
      "Non-trainable params: 512\n",
      "_________________________________________________________________\n",
      "Epoch 1/30\n",
      "200/200 [==============================] - 7s 27ms/step - loss: 1.1144 - acc: 0.5099 - val_loss: 1.0368 - val_acc: 0.5847\n",
      "Epoch 2/30\n",
      "200/200 [==============================] - 5s 24ms/step - loss: 0.7606 - acc: 0.7005 - val_loss: 0.6968 - val_acc: 0.7319\n",
      "Epoch 3/30\n",
      "200/200 [==============================] - 5s 23ms/step - loss: 0.6336 - acc: 0.7629 - val_loss: 0.6167 - val_acc: 0.7663\n",
      "Epoch 4/30\n",
      "200/200 [==============================] - 5s 24ms/step - loss: 0.5750 - acc: 0.7850 - val_loss: 0.5926 - val_acc: 0.7805\n",
      "Epoch 5/30\n",
      "200/200 [==============================] - 5s 24ms/step - loss: 0.5265 - acc: 0.8045 - val_loss: 0.5300 - val_acc: 0.8061\n",
      "Epoch 6/30\n",
      "200/200 [==============================] - 5s 24ms/step - loss: 0.4918 - acc: 0.8222 - val_loss: 0.5121 - val_acc: 0.8088\n",
      "Epoch 7/30\n",
      "200/200 [==============================] - 5s 24ms/step - loss: 0.4756 - acc: 0.8254 - val_loss: 0.5151 - val_acc: 0.8106\n",
      "Epoch 8/30\n",
      "200/200 [==============================] - 4s 22ms/step - loss: 0.4604 - acc: 0.8318 - val_loss: 0.4936 - val_acc: 0.8163\n",
      "Epoch 9/30\n",
      "200/200 [==============================] - 5s 24ms/step - loss: 0.4425 - acc: 0.8385 - val_loss: 0.4739 - val_acc: 0.8253\n",
      "Epoch 10/30\n",
      "200/200 [==============================] - 5s 25ms/step - loss: 0.4221 - acc: 0.8464 - val_loss: 0.4724 - val_acc: 0.8232\n",
      "Epoch 11/30\n",
      "200/200 [==============================] - 5s 25ms/step - loss: 0.4139 - acc: 0.8521 - val_loss: 0.4632 - val_acc: 0.8313\n",
      "Epoch 12/30\n",
      "200/200 [==============================] - 5s 25ms/step - loss: 0.4033 - acc: 0.8560 - val_loss: 0.4486 - val_acc: 0.8370\n",
      "Epoch 13/30\n",
      "200/200 [==============================] - 5s 23ms/step - loss: 0.4046 - acc: 0.8519 - val_loss: 0.4377 - val_acc: 0.8436\n",
      "Epoch 14/30\n",
      "200/200 [==============================] - 5s 24ms/step - loss: 0.3842 - acc: 0.8620 - val_loss: 0.4321 - val_acc: 0.8427\n",
      "Epoch 15/30\n",
      "200/200 [==============================] - 5s 24ms/step - loss: 0.3636 - acc: 0.8700 - val_loss: 0.4575 - val_acc: 0.8342\n",
      "Epoch 16/30\n",
      "200/200 [==============================] - 5s 25ms/step - loss: 0.3685 - acc: 0.8668 - val_loss: 0.4353 - val_acc: 0.8439\n",
      "Epoch 17/30\n",
      "200/200 [==============================] - 5s 26ms/step - loss: 0.3738 - acc: 0.8649 - val_loss: 0.4184 - val_acc: 0.8485\n",
      "Epoch 18/30\n",
      "200/200 [==============================] - 5s 24ms/step - loss: 0.3589 - acc: 0.8710 - val_loss: 0.4163 - val_acc: 0.8468\n",
      "Epoch 19/30\n",
      "200/200 [==============================] - 5s 25ms/step - loss: 0.3546 - acc: 0.8723 - val_loss: 0.4214 - val_acc: 0.8447\n",
      "Epoch 20/30\n",
      "200/200 [==============================] - 5s 25ms/step - loss: 0.3363 - acc: 0.8811 - val_loss: 0.4178 - val_acc: 0.8513\n",
      "Epoch 21/30\n",
      "200/200 [==============================] - 5s 25ms/step - loss: 0.3327 - acc: 0.8825 - val_loss: 0.4277 - val_acc: 0.8471\n",
      "Epoch 22/30\n",
      "200/200 [==============================] - 5s 25ms/step - loss: 0.3284 - acc: 0.8820 - val_loss: 0.4124 - val_acc: 0.8518\n",
      "Epoch 23/30\n",
      "200/200 [==============================] - 5s 25ms/step - loss: 0.3371 - acc: 0.8799 - val_loss: 0.4086 - val_acc: 0.8541\n",
      "Epoch 24/30\n",
      "200/200 [==============================] - 5s 25ms/step - loss: 0.3178 - acc: 0.8852 - val_loss: 0.4092 - val_acc: 0.8549\n",
      "Epoch 25/30\n",
      "200/200 [==============================] - 5s 25ms/step - loss: 0.3110 - acc: 0.8895 - val_loss: 0.4170 - val_acc: 0.8504\n",
      "Epoch 26/30\n",
      "200/200 [==============================] - 5s 25ms/step - loss: 0.3087 - acc: 0.8908 - val_loss: 0.4018 - val_acc: 0.8567\n",
      "Epoch 27/30\n",
      "200/200 [==============================] - 5s 25ms/step - loss: 0.3166 - acc: 0.8875 - val_loss: 0.4124 - val_acc: 0.8528\n",
      "Epoch 28/30\n",
      "200/200 [==============================] - 5s 24ms/step - loss: 0.3134 - acc: 0.8871 - val_loss: 0.3991 - val_acc: 0.8562\n",
      "Epoch 29/30\n",
      "200/200 [==============================] - 5s 25ms/step - loss: 0.2864 - acc: 0.8974 - val_loss: 0.3996 - val_acc: 0.8581\n",
      "Epoch 30/30\n",
      "200/200 [==============================] - 5s 23ms/step - loss: 0.2912 - acc: 0.8986 - val_loss: 0.4010 - val_acc: 0.8573\n"
     ]
    }
   ],
   "source": [
    "test_model = get_model(DIMS, DEPTH, None, MAX_LEN, NUM_LABELS, EMBEDDING_TRAINABLE, fourier=False)\n",
    "test_model.compile('adam', loss='categorical_crossentropy', metrics=['acc'])\n",
    "base_history = test_model.fit(x_train, y_train, steps_per_epoch=200, epochs=EPOCHS, batch_size=BATCH_SIZE , validation_data=(x_test, y_test))"
   ]
  },
  {
   "cell_type": "code",
   "execution_count": null,
   "metadata": {},
   "outputs": [
    {
     "data": {
      "image/png": "[encoded data removed]",
      "text/plain": [
       "<Figure size 432x288 with 1 Axes>"
      ]
     },
     "metadata": {
      "needs_background": "light"
     },
     "output_type": "display_data"
    }
   ],
   "source": [
    "\n",
    "plt.plot(neural_history.history['acc'])\n",
    "plt.legend(['base', 'neural'])\n",
    "plt.title(f'AGnew Accuracy')\n",
    "plt.show()"
   ]
  },
  {
   "cell_type": "code",
   "execution_count": null,
   "metadata": {},
   "outputs": [
    {
     "data": {
      "image/png": "[encoded data removed]",
      "text/plain": [
       "<Figure size 432x288 with 1 Axes>"
      ]
     },
     "metadata": {
      "needs_background": "light"
     },
     "output_type": "display_data"
    }
   ],
   "source": [
    "plt.plot(base_history.history['val_acc'])\n",
    "plt.plot(neural_history.history['val_acc'])\n",
    "plt.legend(['base', 'neural'])\n",
    "plt.title(f'AGnew Vak Accuracy')\n",
    "plt.show()"
   ]
  },
  {
   "cell_type": "code",
   "execution_count": null,
   "metadata": {},
   "outputs": [
    {
     "ename": "SyntaxError",
     "evalue": "invalid syntax (Temp/ipykernel_14460/794826689.py, line 2)",
     "output_type": "error",
     "traceback": [
      "\u001b[1;36m  File \u001b[1;32m\"C:\\Users\\elie\\AppData\\Local\\Temp/ipykernel_14460/794826689.py\"\u001b[1;36m, line \u001b[1;32m2\u001b[0m\n\u001b[1;33m    937/937 [==============================] - 22s 21ms/step - loss: 0.6099 - acc: 0.7624 - val_loss: 0.4036 - val_acc: 0.8561\u001b[0m\n\u001b[1;37m             ^\u001b[0m\n\u001b[1;31mSyntaxError\u001b[0m\u001b[1;31m:\u001b[0m invalid syntax\n"
     ]
    }
   ],
   "source": [
    "# 128, 10\n",
    "937/937 [==============================] - 22s 21ms/step - loss: 0.6099 - acc: 0.7624 - val_loss: 0.4036 - val_acc: 0.8561\n",
    "Epoch 2/2\n",
    "937/937 [==============================] - 19s 20ms/step - loss: 0.3350 - acc: 0.8817 - val_loss: 0.3717 -\n",
    "\n",
    "# 256, 10\n",
    "937/937 [==============================] - 22s 22ms/step - loss: 0.5332 - acc: 0.7979 - val_loss: 0.3890 - val_acc: 0.8607\n",
    "Epoch 2/2\n",
    "937/937 [==============================] - 20s 21ms/step - loss: 0.2939 - acc: 0.8965 - val_loss: 0.3249 - val_acc: 0.8889\n",
    "\n",
    "# 256, 20\n",
    "Epoch 1/2\n",
    "937/937 [==============================] - 22s 22ms/step - loss: 0.5309 - acc: 0.7988 - val_loss: 0.3698 - val_acc: 0.8663\n",
    "Epoch 2/2\n",
    "937/937 [==============================] - 20s 21ms/step - loss: 0.2915 - acc: 0.8978 - val_loss: 0.3327 - val_acc: 0.8825\n",
    "\n",
    "\n",
    "#base\n",
    "Epoch 1/2\n",
    "937/937 [==============================] - 22s 22ms/step - loss: 0.7366 - acc: 0.7064 - val_loss: 0.5273 - val_acc: 0.8075\n",
    "Epoch 2/2\n",
    "937/937 [==============================] - 20s 21ms/step - loss: 0.4650 - acc: 0.8316 - val_loss: 0.4625 - val_acc: 0.8322\n"
   ]
  },
  {
   "cell_type": "code",
   "execution_count": null,
   "metadata": {},
   "outputs": [
    {
     "name": "stdout",
     "output_type": "stream",
     "text": [
      "../tmp/mix_auto_model\n",
      "        loss       acc    val_loss    val_acc\n",
      "--  --------  --------  ----------  ---------\n",
      " 0  0.596855  0.770611    0.430783   0.845074\n",
      " 1  0.358326  0.872707    0.473056   0.829846\n",
      " 2  0.302085  0.892468    0.384674   0.865598\n",
      " 3  0.269414  0.904516    0.335337   0.882283\n",
      " 4  0.24535   0.912237    0.334186   0.880694\n",
      " 5  0.221848  0.921108    0.344441   0.881091\n",
      " 6  0.206619  0.927411    0.331059   0.884666\n",
      " 7  0.192452  0.931205    0.330382   0.887712\n",
      " 8  0.179206  0.935949    0.330971   0.889566\n",
      " 9  0.166754  0.940126    0.340732   0.886917\n"
     ]
    }
   ],
   "source": [
    "print(MODEL)\n",
    "headers = list(history.history.keys())\n",
    "rows = []\n",
    "for i in range(EPOCHS):\n",
    "    rows.append([i] + [history.history[k][i] for k in headers])\n",
    "print(tabulate(rows, headers=headers))"
   ]
  },
  {
   "cell_type": "markdown",
   "metadata": {},
   "source": [
    "../tmp/mix_auto_model\n",
    "        loss       acc    val_loss    val_acc\n",
    "--  --------  --------  ----------  ---------\n",
    " 0  0.596855  0.770611    0.430783   0.845074\n",
    " 1  0.358326  0.872707    0.473056   0.829846\n",
    " 2  0.302085  0.892468    0.384674   0.865598\n",
    " 3  0.269414  0.904516    0.335337   0.882283\n",
    " 4  0.24535   0.912237    0.334186   0.880694\n",
    " 5  0.221848  0.921108    0.344441   0.881091\n",
    " 6  0.206619  0.927411    0.331059   0.884666\n",
    " 7  0.192452  0.931205    0.330382   0.887712\n",
    " 8  0.179206  0.935949    0.330971   0.889566\n",
    " 9  0.166754  0.940126    0.340732   0.886917\n",
    "\n",
    "../tmp/mix_auto_model Trainable false\n",
    "        loss       acc    val_loss    val_acc\n",
    "--  --------  --------  ----------  ---------\n",
    " 0  0.63812   0.750359    0.432877   0.844147\n",
    " 1  0.380665  0.863819    0.379797   0.863612\n",
    " 2  0.321662  0.885897    0.380267   0.863347\n",
    " 3  0.285228  0.897762    0.348707   0.873941\n",
    " 4  0.259434  0.907784    0.353094   0.875794\n",
    " 5  0.237662  0.915146    0.360391   0.877648\n",
    " 6  0.220888  0.921533    0.355414   0.878708\n",
    " 7  0.204975  0.928145    0.354288   0.880826\n",
    " 8  0.189923  0.932589    0.365334   0.880959\n",
    " 9  0.180943  0.935032    0.362523   0.880429\n",
    "\n",
    "../tmp/mix_auto_model - MIX with rescale\n",
    "       loss       acc    val_loss    val_acc\n",
    "--  -------  --------  ----------  ---------\n",
    " 0  0.95942  0.591299    0.667911   0.744571"
   ]
  },
  {
   "cell_type": "markdown",
   "metadata": {},
   "source": [
    "# AUTO CNN\n",
    "\n",
    "Total params: 222,916\n",
    "Trainable params: 221,348\n",
    "Non-trainable params: 1,568\n",
    "_________________________________________________________________\n",
    "Epoch 1/20\n",
    "937/937 [==============================] - 91s 91ms/step - loss: 0.5912 - acc: 0.7715 - val_loss: 0.4322 - val_acc: 0.8445\n",
    "Epoch 2/20\n",
    "937/937 [==============================] - 86s 92ms/step - loss: 0.3537 - acc: 0.8749 - val_loss: 0.3694 - val_acc: 0.8694\n",
    "Epoch 3/20\n",
    "937/937 [==============================] - 87s 93ms/step - loss: 0.3080 - acc: 0.8907 - val_loss: 0.3424 - val_acc: 0.8769\n",
    "Epoch 4/20\n",
    "937/937 [==============================] - 85s 90ms/step - loss: 0.2807 - acc: 0.9003 - val_loss: 0.3124 - val_acc: 0.8902\n",
    "Epoch 5/20\n",
    "937/937 [==============================] - 82s 88ms/step - loss: 0.2618 - acc: 0.9061 - val_loss: 0.3591 - val_acc: 0.8717\n",
    "Epoch 6/20\n",
    "937/937 [==============================] - 81s 86ms/step - loss: 0.2465 - acc: 0.9119 - val_loss: 0.3276 - val_acc: 0.8894\n",
    "Epoch 7/20\n",
    "937/937 [==============================] - 84s 90ms/step - loss: 0.2314 - acc: 0.9178 - val_loss: 0.3163 - val_acc: 0.8867\n",
    "Epoch 8/20\n",
    "937/937 [==============================] - 83s 88ms/step - loss: 0.2217 - acc: 0.9205 - val_loss: 0.3381 - val_acc: 0.8788\n",
    "Epoch 9/20\n",
    "937/937 [==============================] - 80s 85ms/step - loss: 0.2097 - acc: 0.9255 - val_loss: 0.3033 - val_acc: 0.8979\n",
    "Epoch 10/20\n",
    "937/937 [==============================] - 81s 87ms/step - loss: 0.1998 - acc: 0.9282 - val_loss: 0.3128 - val_acc: 0.8962\n",
    "Epoch 11/20\n",
    "937/937 [==============================] - 81s 86ms/step - loss: 0.1900 - acc: 0.9312 - val_loss: 0.2745 - val_acc: 0.9056\n",
    "Epoch 12/20\n",
    "937/937 [==============================] - 80s 86ms/step - loss: 0.1797 - acc: 0.9354 - val_loss: 0.3070 - val_acc: 0.8980\n",
    "Epoch 13/20\n",
    "937/937 [==============================] - 82s 88ms/step - loss: 0.1720 - acc: 0.9382 - val_loss: 0.2938 - val_acc: 0.9068\n",
    "Epoch 14/20\n",
    "937/937 [==============================] - 81s 86ms/step - loss: 0.1612 - acc: 0.9420 - val_loss: 0.2964 - val_acc: 0.9029\n",
    "Epoch 15/20\n",
    "937/937 [==============================] - 82s 88ms/step - loss: 0.1552 - acc: 0.9438 - val_loss: 0.3138 - val_acc: 0.8996\n",
    "Epoch 16/20\n",
    "937/937 [==============================] - 81s 87ms/step - loss: 0.1508 - acc: 0.9449 - val_loss: 0.3167 - val_acc: 0.9020\n",
    "Epoch 17/20\n",
    "937/937 [==============================] - 80s 85ms/step - loss: 0.1432 - acc: 0.9475 - val_loss: 0.3254 - val_acc: 0.8943\n",
    "Epoch 18/20\n",
    "937/937 [==============================] - 85s 90ms/step - loss: 0.1360 - acc: 0.9502 - val_loss: 0.3105 - val_acc: 0.9021\n",
    "Epoch 19/20\n",
    "937/937 [==============================] - 84s 90ms/step - loss: 0.1313 - acc: 0.9522 - val_loss: 0.3183 - val_acc: 0.9025\n",
    "Epoch 20/20\n",
    "937/937 [==============================] - 80s 85ms/step - loss: 0.1243 - acc: 0.9545 - val_loss: 0.3403 - val_acc: 0.8980"
   ]
  },
  {
   "cell_type": "markdown",
   "metadata": {},
   "source": []
  },
  {
   "cell_type": "code",
   "execution_count": null,
   "metadata": {},
   "outputs": [
    {
     "data": {
      "image/png": "[encoded data removed]",
      "text/plain": [
       "<Figure size 432x288 with 1 Axes>"
      ]
     },
     "metadata": {
      "needs_background": "light"
     },
     "output_type": "display_data"
    }
   ],
   "source": [
    "plt.plot(history.history['val_acc'])\n",
    "plt.plot(history.history['acc'])\n",
    "plt.legend(['val_acc', 'acc'])\n",
    "plt.show()"
   ]
  },
  {
   "cell_type": "markdown",
   "metadata": {},
   "source": [
    "Epoch 9/10\n",
    "937/937 [==============================] - 19s 20ms/step - loss: 0.2586 - acc: 0.9083 - val_loss: 0.3769 - val_acc: 0.8701\n",
    "Epoch 10/10\n",
    "937/937 [==============================] - 19s 20ms/step - loss: 0.2442 - acc: 0.9132 - val_loss: 0.3713 - val_acc: 0.8733"
   ]
  },
  {
   "cell_type": "code",
   "execution_count": null,
   "metadata": {},
   "outputs": [],
   "source": []
  }
 ],
 "metadata": {
  "interpreter": {
   "hash": "cada0c3e68bbe3038c05f3f13c34d05fb5411cc128b62a4a529880c33c3268c3"
  },
  "kernelspec": {
   "display_name": "Python 3.8.10 64-bit",
   "name": "python3"
  },
  "language_info": {
   "codemirror_mode": {
    "name": "ipython",
    "version": 3
   },
   "file_extension": ".py",
   "mimetype": "text/x-python",
   "name": "python",
   "nbconvert_exporter": "python",
   "pygments_lexer": "ipython3",
   "version": "3.9.9"
  },
  "orig_nbformat": 4
 },
 "nbformat": 4,
 "nbformat_minor": 2
}