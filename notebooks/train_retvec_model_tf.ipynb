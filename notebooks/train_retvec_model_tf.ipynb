{
 "cells": [
  {
   "attachments": {},
   "cell_type": "markdown",
   "metadata": {},
   "source": [
    "# Using RETVec to train an emotion classifier\n",
    "\n",
    "RETVec is a state-of-the-art text vectorizer which works directly on text inputs to create resilient classification models. Models trained with RETVec achieve better classification performance with fewer parameters and exhibit stronger resilience against adversarial attacks and typos, as reported in our [paper](https://arxiv.org/abs/2302.09207).\n",
    "\n",
    "RETVec's speed and fewer parameters (~200k instead of millions) makes it a great choice to train and deploy small and efficient on-device models. It is natively supported in TensorFlow Lite via custom ops implemented in TensorFlow Text, and we provide a Javascript implementation of RETVec which allows you to deploy web models via TensorFlow.js.\n",
    "\n",
    "This notebook demonstrates how to quickly train and use a text emotion classifier in TensorFlow.\n",
    "\n",
    "Let's get started!"
   ]
  },
  {
   "cell_type": "code",
   "execution_count": null,
   "metadata": {
    "tags": [
     "hide-output"
    ]
   },
   "outputs": [],
   "source": [
    "# installing needed dependencies\n",
    "try:\n",
    "    import retvec\n",
    "except ImportError:\n",
    "    !pip install retvec  # is retvec installed?\n",
    "\n",
    "try:\n",
    "    import datasets\n",
    "except ImportError:\n",
    "    !pip install datasets  # used to get the dataset\n",
    "\n",
    "try:\n",
    "    import matplotlib\n",
    "except ImportError:\n",
    "    !pip install matplotlib"
   ]
  },
  {
   "cell_type": "code",
   "execution_count": null,
   "metadata": {},
   "outputs": [],
   "source": [
    "import os\n",
    "os.environ['TF_CPP_MIN_LOG_LEVEL'] = '1'  # silence TF INFO messages\n",
    "import tensorflow as tf\n",
    "import numpy as np\n",
    "from tensorflow.keras import layers\n",
    "from datasets import load_dataset\n",
    "from matplotlib import pyplot as plt"
   ]
  },
  {
   "cell_type": "code",
   "execution_count": 3,
   "metadata": {},
   "outputs": [
    {
     "data": {
      "text/plain": [
       "[PhysicalDevice(name='/physical_device:CPU:0', device_type='CPU'),\n",
       " PhysicalDevice(name='/physical_device:GPU:0', device_type='GPU'),\n",
       " PhysicalDevice(name='/physical_device:GPU:1', device_type='GPU'),\n",
       " PhysicalDevice(name='/physical_device:GPU:2', device_type='GPU'),\n",
       " PhysicalDevice(name='/physical_device:GPU:3', device_type='GPU'),\n",
       " PhysicalDevice(name='/physical_device:GPU:4', device_type='GPU'),\n",
       " PhysicalDevice(name='/physical_device:GPU:5', device_type='GPU'),\n",
       " PhysicalDevice(name='/physical_device:GPU:6', device_type='GPU'),\n",
       " PhysicalDevice(name='/physical_device:GPU:7', device_type='GPU')]"
      ]
     },
     "execution_count": 3,
     "metadata": {},
     "output_type": "execute_result"
    }
   ],
   "source": [
    "tf.config.list_physical_devices()"
   ]
  },
  {
   "cell_type": "markdown",
   "metadata": {},
   "source": [
    "In this notebook we are using the `RETVecTokenizer()` layer which perform the binarization and embedding in a single step. This is the best approach for GPU training. For TPU training,\n",
    "it is more efficient to split the two steps -- see our TPU training notbook for this."
   ]
  },
  {
   "cell_type": "code",
   "execution_count": 4,
   "metadata": {},
   "outputs": [],
   "source": [
    "# import the RETVec tokenizer layer\n",
    "from retvec.tf import RETVecTokenizer"
   ]
  },
  {
   "cell_type": "markdown",
   "metadata": {},
   "source": [
    "## Create dataset\n",
    "\n",
    "We are going to use the [Go Emotion dataset](https://huggingface.co/datasets/go_emotions) to create a mulit-class emotion classifier.\n",
    "https://ai.googleblog.com/2021/10/goemotions-dataset-for-fine-grained.html"
   ]
  },
  {
   "cell_type": "code",
   "execution_count": 5,
   "metadata": {},
   "outputs": [],
   "source": [
    "# downloading dataset\n",
    "dataset = load_dataset('go_emotions')"
   ]
  },
  {
   "cell_type": "code",
   "execution_count": 6,
   "metadata": {},
   "outputs": [
    {
     "name": "stdout",
     "output_type": "stream",
     "text": [
      "num classes 28\n",
      "['admiration', 'amusement', 'anger', 'annoyance', 'approval', 'caring', 'confusion', 'curiosity', 'desire', 'disappointment', 'disapproval', 'disgust', 'embarrassment', 'excitement', 'fear', 'gratitude', 'grief', 'joy', 'love', 'nervousness', 'optimism', 'pride', 'realization', 'relief', 'remorse', 'sadness', 'surprise', 'neutral']\n"
     ]
    }
   ],
   "source": [
    "# get class name mapping and number of class\n",
    "CLASSES = dataset['train'].features['labels'].feature.names\n",
    "NUM_CLASSES = len(CLASSES)\n",
    "print(f\"num classes {NUM_CLASSES}\")\n",
    "print(CLASSES)"
   ]
  },
  {
   "cell_type": "code",
   "execution_count": 7,
   "metadata": {},
   "outputs": [],
   "source": [
    "# preparing data\n",
    "x_train = tf.constant(dataset['train']['text'], dtype=tf.string)\n",
    "\n",
    "# the one-hot requires a little more due to the multi-class nature of the dataset.\n",
    "y_train = np.zeros((len(x_train),NUM_CLASSES))\n",
    "for idx, ex in enumerate(dataset['train']['labels']):\n",
    "    for val in ex:\n",
    "        y_train[idx][val] = 1\n",
    "\n",
    "# test data\n",
    "x_test = tf.constant(dataset['test']['text'], dtype=tf.string)\n",
    "y_test = np.zeros((len(x_test),NUM_CLASSES))\n",
    "for idx, ex in enumerate(dataset['test']['labels']):\n",
    "    for val in ex:\n",
    "        y_test[idx][val] = 1\n"
   ]
  },
  {
   "cell_type": "markdown",
   "metadata": {},
   "source": [
    "## Model\n",
    "\n",
    "A key benefit of using RETVec is that inputs to RETVec and the text model are raw strings with no pre-processing neccessary, which greatly simplifies the training and inference process, especially for on-device models.\n",
    "\n",
    "Notes:\n",
    "- Using strings directly as input requires to use a shape of `(1,)` and specify the type `tf.string`\n",
    "- We are using `RETVecTokenizer()` in its default configuration which is to truncate at `128` words and use a small pre-trained word embedding model to embed the words. You can experiment with shorter or longer length by changing the `sequence_length` parameter. The word embedding model offers significant improvements in adversarial and typo robustness. To use the RETVec character tokenizer only, set `model=None`."
   ]
  },
  {
   "cell_type": "code",
   "execution_count": 8,
   "metadata": {},
   "outputs": [
    {
     "name": "stdout",
     "output_type": "stream",
     "text": [
      "WARNING:tensorflow:No training configuration found in save file, so the model was *not* compiled. Compile it manually.\n",
      "Model: \"model\"\n",
      "_________________________________________________________________\n",
      " Layer (type)                Output Shape              Param #   \n",
      "=================================================================\n",
      " token (InputLayer)          [(None, 1)]               0         \n",
      "                                                                 \n",
      " ret_vec_tokenizer (RETVecTo  (None, 128, 256)         230144    \n",
      " kenizer)                                                        \n",
      "                                                                 \n",
      " bidirectional (Bidirectiona  (None, 128, 128)         164352    \n",
      " l)                                                              \n",
      "                                                                 \n",
      " bidirectional_1 (Bidirectio  (None, 128)              98816     \n",
      " nal)                                                            \n",
      "                                                                 \n",
      " dense (Dense)               (None, 28)                3612      \n",
      "                                                                 \n",
      "=================================================================\n",
      "Total params: 496,924\n",
      "Trainable params: 266,780\n",
      "Non-trainable params: 230,144\n",
      "_________________________________________________________________\n"
     ]
    }
   ],
   "source": [
    "# using strings directly requires to put a shape of (1,) and dtype tf.string\n",
    "inputs = layers.Input(shape=(1, ), name=\"token\", dtype=tf.string)\n",
    "\n",
    "# add RETVec tokenizer layer with default settings -- this is all you have to do to build a model with RETVec!\n",
    "x = RETVecTokenizer(model='retvec-v1')(inputs)\n",
    "\n",
    "# standard two layer LSTM\n",
    "x = layers.Bidirectional(layers.LSTM(64, return_sequences=True))(x)\n",
    "x = layers.Bidirectional(layers.LSTM(64))(x)\n",
    "outputs = layers.Dense(NUM_CLASSES, activation='sigmoid')(x)\n",
    "model = tf.keras.Model(inputs, outputs)\n",
    "model.summary()"
   ]
  },
  {
   "cell_type": "code",
   "execution_count": 10,
   "metadata": {},
   "outputs": [
    {
     "name": "stdout",
     "output_type": "stream",
     "text": [
      "Epoch 1/25\n",
      "170/170 [==============================] - 19s 79ms/step - loss: 0.0823 - acc: 0.5885 - val_loss: 0.0996 - val_acc: 0.5272\n",
      "Epoch 2/25\n",
      "170/170 [==============================] - 12s 71ms/step - loss: 0.0812 - acc: 0.5953 - val_loss: 0.1001 - val_acc: 0.5194\n",
      "Epoch 3/25\n",
      "170/170 [==============================] - 12s 71ms/step - loss: 0.0805 - acc: 0.5947 - val_loss: 0.0999 - val_acc: 0.5266\n",
      "Epoch 4/25\n",
      "170/170 [==============================] - 12s 71ms/step - loss: 0.0800 - acc: 0.6003 - val_loss: 0.1000 - val_acc: 0.5152\n",
      "Epoch 5/25\n",
      "170/170 [==============================] - 12s 71ms/step - loss: 0.0792 - acc: 0.6029 - val_loss: 0.1013 - val_acc: 0.5233\n",
      "Epoch 6/25\n",
      "170/170 [==============================] - 12s 71ms/step - loss: 0.0786 - acc: 0.6063 - val_loss: 0.1003 - val_acc: 0.5187\n",
      "Epoch 7/25\n",
      "170/170 [==============================] - 12s 71ms/step - loss: 0.0779 - acc: 0.6092 - val_loss: 0.1003 - val_acc: 0.5178\n",
      "Epoch 8/25\n",
      "170/170 [==============================] - 12s 70ms/step - loss: 0.0773 - acc: 0.6082 - val_loss: 0.1005 - val_acc: 0.5178\n",
      "Epoch 9/25\n",
      "170/170 [==============================] - 12s 71ms/step - loss: 0.0768 - acc: 0.6116 - val_loss: 0.1024 - val_acc: 0.5178\n",
      "Epoch 10/25\n",
      "170/170 [==============================] - 12s 68ms/step - loss: 0.0759 - acc: 0.6154 - val_loss: 0.1021 - val_acc: 0.5207\n",
      "Epoch 11/25\n",
      "170/170 [==============================] - 12s 70ms/step - loss: 0.0757 - acc: 0.6182 - val_loss: 0.1013 - val_acc: 0.5193\n",
      "Epoch 12/25\n",
      "170/170 [==============================] - 12s 71ms/step - loss: 0.0748 - acc: 0.6238 - val_loss: 0.1039 - val_acc: 0.5193\n",
      "Epoch 13/25\n",
      "170/170 [==============================] - 12s 70ms/step - loss: 0.0746 - acc: 0.6233 - val_loss: 0.1016 - val_acc: 0.5194\n",
      "Epoch 14/25\n",
      "170/170 [==============================] - 12s 71ms/step - loss: 0.0739 - acc: 0.6267 - val_loss: 0.1035 - val_acc: 0.5174\n",
      "Epoch 15/25\n",
      "170/170 [==============================] - 12s 71ms/step - loss: 0.0735 - acc: 0.6261 - val_loss: 0.1037 - val_acc: 0.5128\n",
      "Epoch 16/25\n",
      "170/170 [==============================] - 12s 71ms/step - loss: 0.0729 - acc: 0.6313 - val_loss: 0.1042 - val_acc: 0.5158\n",
      "Epoch 17/25\n",
      "170/170 [==============================] - 12s 71ms/step - loss: 0.0724 - acc: 0.6342 - val_loss: 0.1042 - val_acc: 0.5158\n",
      "Epoch 18/25\n",
      "170/170 [==============================] - 12s 71ms/step - loss: 0.0717 - acc: 0.6361 - val_loss: 0.1039 - val_acc: 0.5128\n",
      "Epoch 19/25\n",
      "170/170 [==============================] - 12s 70ms/step - loss: 0.0714 - acc: 0.6375 - val_loss: 0.1056 - val_acc: 0.5156\n",
      "Epoch 20/25\n",
      "170/170 [==============================] - 12s 70ms/step - loss: 0.0711 - acc: 0.6394 - val_loss: 0.1063 - val_acc: 0.5128\n",
      "Epoch 21/25\n",
      "170/170 [==============================] - 12s 70ms/step - loss: 0.0705 - acc: 0.6428 - val_loss: 0.1081 - val_acc: 0.5145\n",
      "Epoch 22/25\n",
      "170/170 [==============================] - 12s 69ms/step - loss: 0.0696 - acc: 0.6456 - val_loss: 0.1058 - val_acc: 0.5159\n",
      "Epoch 23/25\n",
      "170/170 [==============================] - 12s 70ms/step - loss: 0.0695 - acc: 0.6481 - val_loss: 0.1070 - val_acc: 0.5170\n",
      "Epoch 24/25\n",
      "170/170 [==============================] - 12s 70ms/step - loss: 0.0692 - acc: 0.6470 - val_loss: 0.1064 - val_acc: 0.5065\n",
      "Epoch 25/25\n",
      "170/170 [==============================] - 12s 71ms/step - loss: 0.0686 - acc: 0.6500 - val_loss: 0.1086 - val_acc: 0.5135\n"
     ]
    }
   ],
   "source": [
    "# compile and train the model like usual\n",
    "batch_size = 256\n",
    "epochs = 25\n",
    "model.compile('adam', 'binary_crossentropy', ['acc'])\n",
    "history = model.fit(x_train, y_train, epochs=epochs, batch_size=batch_size, \n",
    "                    validation_data=(x_test, y_test))"
   ]
  },
  {
   "cell_type": "code",
   "execution_count": 11,
   "metadata": {},
   "outputs": [
    {
     "data": {
      "image/png": "[encoded data removed]",
      "text/plain": [
       "<Figure size 640x480 with 1 Axes>"
      ]
     },
     "metadata": {},
     "output_type": "display_data"
    }
   ],
   "source": [
    "# visualize the training curves\n",
    "plt.plot(history.history['acc'])\n",
    "plt.plot(history.history['val_acc'])\n",
    "plt.legend(['acc', 'val_acc'])\n",
    "plt.title(f'Accuracy')\n",
    "plt.show()"
   ]
  },
  {
   "cell_type": "markdown",
   "metadata": {},
   "source": [
    "## Save & Reload Keras Model\n",
    "\n",
    "Let's save our model, then test it on some examples."
   ]
  },
  {
   "cell_type": "code",
   "execution_count": 12,
   "metadata": {},
   "outputs": [
    {
     "name": "stdout",
     "output_type": "stream",
     "text": [
      "WARNING:tensorflow:Skipping full serialization of Keras layer <keras.layers.regularization.dropout.Dropout object at 0x7f3a00fe6d70>, because it is not built.\n",
      "WARNING:tensorflow:Skipping full serialization of Keras layer <keras.layers.regularization.spatial_dropout1d.SpatialDropout1D object at 0x7f3a00110f70>, because it is not built.\n"
     ]
    },
    {
     "name": "stderr",
     "output_type": "stream",
     "text": [
      "WARNING:absl:Found untraced functions such as ret_vec_embedding_layer_call_fn, ret_vec_embedding_layer_call_and_return_conditional_losses, ret_vec_binarizer_layer_call_fn, ret_vec_binarizer_layer_call_and_return_conditional_losses, ret_vec_integerizer_layer_call_fn while saving (showing 5 of 17). These functions will not be directly callable after loading.\n"
     ]
    },
    {
     "name": "stdout",
     "output_type": "stream",
     "text": [
      "INFO:tensorflow:Assets written to: demo_models/emotion_model/assets\n"
     ]
    },
    {
     "name": "stderr",
     "output_type": "stream",
     "text": [
      "INFO:tensorflow:Assets written to: demo_models/emotion_model/assets\n"
     ]
    },
    {
     "name": "stdout",
     "output_type": "stream",
     "text": [
      "WARNING:tensorflow:No training configuration found in save file, so the model was *not* compiled. Compile it manually.\n"
     ]
    },
    {
     "name": "stderr",
     "output_type": "stream",
     "text": [
      "WARNING:tensorflow:No training configuration found in save file, so the model was *not* compiled. Compile it manually.\n"
     ]
    }
   ],
   "source": [
    "# saving the model\n",
    "save_path = 'demo_models/emotion_model'\n",
    "model.save(save_path)\n",
    "\n",
    "model = tf.keras.models.load_model(save_path, compile=False)"
   ]
  },
  {
   "cell_type": "code",
   "execution_count": 13,
   "metadata": {},
   "outputs": [],
   "source": [
    "def predict_emotions(txt, threshold=0.5):\n",
    "    # recall it is multi-class so we need to get all prediction above a threshold (0.5)\n",
    "    preds = model(tf.constant([txt]))[0]\n",
    "    out = 0\n",
    "    for i in range(NUM_CLASSES):\n",
    "        if preds[i] > threshold:\n",
    "            emotion_name = CLASSES[i]\n",
    "            emotion_prob = round(float(preds[i]) * 100, 1)\n",
    "            print(f\"{emotion_name} ({emotion_prob})%\")\n",
    "            out += 1\n",
    "    if not out:\n",
    "        print(\"neutral\")"
   ]
  },
  {
   "cell_type": "code",
   "execution_count": 14,
   "metadata": {},
   "outputs": [
    {
     "name": "stdout",
     "output_type": "stream",
     "text": [
      "joy (98.7)%\n"
     ]
    }
   ],
   "source": [
    "txt = \"I enjoy having a good icecream.\"\n",
    "predict_emotions(txt)"
   ]
  },
  {
   "cell_type": "code",
   "execution_count": 15,
   "metadata": {},
   "outputs": [
    {
     "name": "stdout",
     "output_type": "stream",
     "text": [
      "joy (98.7)%\n"
     ]
    }
   ],
   "source": [
    "# the model works even with typos, substitutions, and emojis!\n",
    "txt = \"I enjoy hving a g00d ic3cream!!! 🍦\"\n",
    "predict_emotions(txt)"
   ]
  },
  {
   "cell_type": "markdown",
   "metadata": {},
   "source": [
    "### Save model for TFJS\n",
    "\n",
    "We have a RETVec implementation in TFJS, so to save the model, we can remove the RETVecTokenizer layer and save the rest of the model. You can then convert the model to tfjs using the [TensorFlow JS converter](https://www.tensorflow.org/js/tutorials/conversion/import_saved_model). Then, head over to the TFJS colab to see how to use retvec js and deploy your model!"
   ]
  },
  {
   "cell_type": "code",
   "execution_count": 17,
   "metadata": {},
   "outputs": [
    {
     "name": "stdout",
     "output_type": "stream",
     "text": [
      "Model: \"model_1\"\n",
      "_________________________________________________________________\n",
      " Layer (type)                Output Shape              Param #   \n",
      "=================================================================\n",
      " input_1 (InputLayer)        [(None, 128, 256)]        0         \n",
      "                                                                 \n",
      " bidirectional (Bidirectiona  (None, 128, 128)         164352    \n",
      " l)                                                              \n",
      "                                                                 \n",
      " bidirectional_1 (Bidirectio  (None, 128)              98816     \n",
      " nal)                                                            \n",
      "                                                                 \n",
      " dense (Dense)               (None, 28)                3612      \n",
      "                                                                 \n",
      "=================================================================\n",
      "Total params: 266,780\n",
      "Trainable params: 266,780\n",
      "Non-trainable params: 0\n",
      "_________________________________________________________________\n"
     ]
    }
   ],
   "source": [
    "tfjs_model = tf.keras.Model(\n",
    "    model.layers[2].input,\n",
    "    model.output,\n",
    ")\n",
    "tfjs_model.summary()"
   ]
  },
  {
   "cell_type": "code",
   "execution_count": 18,
   "metadata": {},
   "outputs": [
    {
     "name": "stdout",
     "output_type": "stream",
     "text": [
      "WARNING:tensorflow:Compiled the loaded model, but the compiled metrics have yet to be built. `model.compile_metrics` will be empty until you train or evaluate the model.\n"
     ]
    },
    {
     "name": "stderr",
     "output_type": "stream",
     "text": [
      "WARNING:tensorflow:Compiled the loaded model, but the compiled metrics have yet to be built. `model.compile_metrics` will be empty until you train or evaluate the model.\n",
      "WARNING:absl:Found untraced functions such as lstm_cell_7_layer_call_fn, lstm_cell_7_layer_call_and_return_conditional_losses, lstm_cell_8_layer_call_fn, lstm_cell_8_layer_call_and_return_conditional_losses, lstm_cell_10_layer_call_fn while saving (showing 5 of 8). These functions will not be directly callable after loading.\n"
     ]
    },
    {
     "name": "stdout",
     "output_type": "stream",
     "text": [
      "INFO:tensorflow:Assets written to: demo_models/emotion_model_tfjs/assets\n"
     ]
    },
    {
     "name": "stderr",
     "output_type": "stream",
     "text": [
      "INFO:tensorflow:Assets written to: demo_models/emotion_model_tfjs/assets\n"
     ]
    }
   ],
   "source": [
    "save_path = 'demo_models/emotion_model_tfjs'\n",
    "tfjs_model.save(save_path, include_optimizer=False)"
   ]
  },
  {
   "cell_type": "code",
   "execution_count": null,
   "metadata": {},
   "outputs": [],
   "source": [
    "# convert model to tfjs using tensorflowjs_converter\n",
    "! tensorflowjs_converter demo_models/emotion_model_tfjs  demo_models/emotion_model_tfjs_converted"
   ]
  }
 ],
 "metadata": {
  "kernelspec": {
   "display_name": "Python 3.10.12 64-bit",
   "language": "python",
   "name": "python3"
  },
  "language_info": {
   "codemirror_mode": {
    "name": "ipython",
    "version": 3
   },
   "file_extension": ".py",
   "mimetype": "text/x-python",
   "name": "python",
   "nbconvert_exporter": "python",
   "pygments_lexer": "ipython3",
   "version": "3.10.6"
  },
  "orig_nbformat": 4,
  "vscode": {
   "interpreter": {
    "hash": "e7370f93d1d0cde622a1f8e1c04877d8463912d04d973331ad4851f04de6915a"
   }
  }
 },
 "nbformat": 4,
 "nbformat_minor": 2
}
