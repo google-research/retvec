{
  "nbformat": 4,
  "nbformat_minor": 0,
  "metadata": {
    "colab": {
      "provenance": []
    },
    "kernelspec": {
      "name": "python3",
      "display_name": "Python 3"
    },
    "language_info": {
      "name": "python"
    },
    "accelerator": "TPU"
  },
  "cells": [
    {
      "cell_type": "markdown",
      "source": [
        "### Use RETVec on TPU\n",
        "\n",
        "You can run this notebook in Google Colab, where you can request a TPU.\n",
        "\n",
        "RETVec requires a slightly different setup on TPU, because TPUs do not support string tensors. Thus, we will split the default RETVecTokenizer layer into two parts -- one that converts strings into an integer representation which runs on CPU, and the remaining components of RETVec including the word embedding model which runs on TPU (as well as the rest of the model).\n",
        "\n",
        "We will use the same example as in the `train_retvec_model_tf.ipynb` notebook, where we train an emotion classifier."
      ],
      "metadata": {
        "id": "KCdhdgLc-xCP"
      }
    },
    {
      "cell_type": "code",
      "source": [
        "# installing needed dependencies\n",
        "try:\n",
        "    import retvec\n",
        "except ImportError:\n",
        "    !pip install retvec  # is retvec installed?\n",
        "\n",
        "try:\n",
        "    import datasets\n",
        "except ImportError:\n",
        "    !pip install datasets  # used to get the dataset\n",
        "\n",
        "try:\n",
        "    import matplotlib\n",
        "except ImportError:\n",
        "    !pip install matplotlib\n",
        "\n",
        "try:\n",
        "    import tensorflow_text\n",
        "except ImportError:\n",
        "    !pip install tensorflow_text"
      ],
      "metadata": {
        "id": "niDxQ-1x-mx9"
      },
      "execution_count": 1,
      "outputs": []
    },
    {
      "cell_type": "code",
      "source": [
        "import os\n",
        "os.environ['TF_CPP_MIN_LOG_LEVEL'] = '1'  # silence TF INFO messages\n",
        "import tensorflow as tf\n",
        "import numpy as np\n",
        "from tensorflow.keras import layers\n",
        "import tensorflow_text as text\n",
        "from datasets import load_dataset\n",
        "from matplotlib import pyplot as plt"
      ],
      "metadata": {
        "id": "2Ovv0fvB-psR"
      },
      "execution_count": 2,
      "outputs": []
    },
    {
      "cell_type": "markdown",
      "source": [
        "### Import RETVec layers we need for TPU\n",
        "\n",
        "Note that we do not import the RETVecTokenizer layer for TPU here, since TPUs do not support tf.string inputs."
      ],
      "metadata": {
        "id": "6oLggdAk_a2B"
      }
    },
    {
      "cell_type": "code",
      "source": [
        "from retvec.tf.layers import RETVecEmbedding, RETVecIntToBinary, RETVecIntegerizer"
      ],
      "metadata": {
        "id": "fWwzCVs7-rgT"
      },
      "execution_count": 3,
      "outputs": []
    },
    {
      "cell_type": "markdown",
      "source": [
        "### Initialize TPU and TPU Strategy"
      ],
      "metadata": {
        "id": "pRdgWcpXrliX"
      }
    },
    {
      "cell_type": "code",
      "source": [
        "resolver = tf.distribute.cluster_resolver.TPUClusterResolver(tpu='')\n",
        "tf.config.experimental_connect_to_cluster(resolver)\n",
        "# This is the TPU initialization code that has to be at the beginning.\n",
        "tf.tpu.experimental.initialize_tpu_system(resolver)\n",
        "print(\"All devices: \", tf.config.list_logical_devices('TPU'))\n",
        "\n",
        "strategy = tf.distribute.TPUStrategy(resolver)"
      ],
      "metadata": {
        "colab": {
          "base_uri": "https://localhost:8080/"
        },
        "id": "Jrf9ViW6rkmE",
        "outputId": "42c04ce9-b4de-47ae-d4d2-26c66cda78c5"
      },
      "execution_count": 4,
      "outputs": [
        {
          "output_type": "stream",
          "name": "stdout",
          "text": [
            "All devices:  [LogicalDevice(name='/job:worker/replica:0/task:0/device:TPU:0', device_type='TPU'), LogicalDevice(name='/job:worker/replica:0/task:0/device:TPU:1', device_type='TPU'), LogicalDevice(name='/job:worker/replica:0/task:0/device:TPU:2', device_type='TPU'), LogicalDevice(name='/job:worker/replica:0/task:0/device:TPU:3', device_type='TPU'), LogicalDevice(name='/job:worker/replica:0/task:0/device:TPU:4', device_type='TPU'), LogicalDevice(name='/job:worker/replica:0/task:0/device:TPU:5', device_type='TPU'), LogicalDevice(name='/job:worker/replica:0/task:0/device:TPU:6', device_type='TPU'), LogicalDevice(name='/job:worker/replica:0/task:0/device:TPU:7', device_type='TPU')]\n"
          ]
        }
      ]
    },
    {
      "cell_type": "markdown",
      "source": [
        "### Create dataset\n",
        "\n",
        "We are going to use the [Go Emotion](https://huggingface.co/datasets/go_emotions) dataset to create a mulit-class emotion classifier. https://ai.googleblog.com/2021/10/goemotions-dataset-for-fine-grained.html"
      ],
      "metadata": {
        "id": "F9Rvip4S_wCO"
      }
    },
    {
      "cell_type": "code",
      "source": [
        "# downloading dataset\n",
        "dataset = load_dataset('go_emotions')"
      ],
      "metadata": {
        "id": "jxYGjVIR_6S6"
      },
      "execution_count": 5,
      "outputs": []
    },
    {
      "cell_type": "code",
      "source": [
        "# get class name mapping and number of class\n",
        "CLASSES = dataset['train'].features['labels'].feature.names\n",
        "NUM_CLASSES = len(CLASSES)\n",
        "print(f\"num classes {NUM_CLASSES}\")\n",
        "print(CLASSES)"
      ],
      "metadata": {
        "colab": {
          "base_uri": "https://localhost:8080/"
        },
        "id": "CJDELoVj_6WE",
        "outputId": "0d027bb4-398a-49be-b891-a43167650e52"
      },
      "execution_count": 6,
      "outputs": [
        {
          "output_type": "stream",
          "name": "stdout",
          "text": [
            "num classes 28\n",
            "['admiration', 'amusement', 'anger', 'annoyance', 'approval', 'caring', 'confusion', 'curiosity', 'desire', 'disappointment', 'disapproval', 'disgust', 'embarrassment', 'excitement', 'fear', 'gratitude', 'grief', 'joy', 'love', 'nervousness', 'optimism', 'pride', 'realization', 'relief', 'remorse', 'sadness', 'surprise', 'neutral']\n"
          ]
        }
      ]
    },
    {
      "cell_type": "code",
      "source": [
        "# preparing data\n",
        "x_train = tf.constant(dataset['train']['text'], dtype=tf.string)\n",
        "\n",
        "# the one-hot requires a little more due to the multi-class nature of the dataset.\n",
        "y_train = np.zeros((len(x_train),NUM_CLASSES))\n",
        "for idx, ex in enumerate(dataset['train']['labels']):\n",
        "    for val in ex:\n",
        "        y_train[idx][val] = 1\n",
        "\n",
        "# test data\n",
        "x_test = tf.constant(dataset['test']['text'], dtype=tf.string)\n",
        "y_test = np.zeros((len(x_test),NUM_CLASSES))\n",
        "for idx, ex in enumerate(dataset['test']['labels']):\n",
        "    for val in ex:\n",
        "        y_test[idx][val] = 1"
      ],
      "metadata": {
        "id": "UDAQ-jsy_6YZ"
      },
      "execution_count": 14,
      "outputs": []
    },
    {
      "cell_type": "markdown",
      "source": [
        "### Pre-process dataset on CPU\n",
        "\n",
        "We use the `RETVecIntegerizer` class to convert the tf.strings input into integer tensors (on CPU). By default, the layer converts each word into it's UTF-8 codepoints (with max 16 characters per word).\n",
        "\n",
        "The `RETVecIntegerizer` has a method `integerize` which will encode a string tensor into its integer representation."
      ],
      "metadata": {
        "id": "a7CZv1PUAIPg"
      }
    },
    {
      "cell_type": "code",
      "source": [
        "sequence_length = 128  # number of words per text, inputs will be padded or truncated to this length\n",
        "word_length = 16  # max characters per word\n",
        "\n",
        "# initialize whitespace tokenizer\n",
        "whitespace_tokenizer = text.WhitespaceTokenizer()\n",
        "\n",
        "# initialize RETVec integerizer\n",
        "integerizer = RETVecIntegerizer()"
      ],
      "metadata": {
        "id": "0lUZoLh1AV0Y"
      },
      "execution_count": 15,
      "outputs": []
    },
    {
      "cell_type": "code",
      "source": [
        "# split text in dataset into words\n",
        "x_train = whitespace_tokenizer.tokenize(x_train)\n",
        "x_test = whitespace_tokenizer.tokenize(x_test)\n",
        "\n",
        "# convert from ragged tensor to tensor with pad/truncation to sequence_length\n",
        "x_train = x_train.to_tensor(default_value=\"\", shape=(x_train.shape[0], sequence_length))\n",
        "x_test = x_test.to_tensor(default_value=\"\", shape=(x_test.shape[0], sequence_length))\n",
        "\n",
        "# encode each word into their integer representation\n",
        "x_train = integerizer.integerize(x_train)\n",
        "x_test = integerizer.integerize(x_test)"
      ],
      "metadata": {
        "id": "p4lhTH4vrhYC"
      },
      "execution_count": 16,
      "outputs": []
    },
    {
      "cell_type": "code",
      "source": [
        "print('train input shape:', x_train.shape)"
      ],
      "metadata": {
        "colab": {
          "base_uri": "https://localhost:8080/"
        },
        "id": "gw7QEnPKA0ZL",
        "outputId": "b87bf75b-61f6-4d7b-afd8-1697b8873453"
      },
      "execution_count": 17,
      "outputs": [
        {
          "output_type": "stream",
          "name": "stdout",
          "text": [
            "train input shape: (43410, 128, 16)\n"
          ]
        }
      ]
    },
    {
      "cell_type": "markdown",
      "source": [
        "### Create Model\n",
        "\n",
        "Now, we can create the model with RETVec which will run on TPU. To do this, we use the layers `RETVecIntToBinary` which will binarize the UTF-8 codepoints, and `RETVecEmbedding` which will call the embedding model and produce 256-dim float embeddings for each word. Then, we can build the rest of the model like usual and train."
      ],
      "metadata": {
        "id": "EnAfdnUb__pt"
      }
    },
    {
      "cell_type": "code",
      "source": [
        "retvec_model_dir = 'gs://tensorflow/keras-applications/retvec-v1/' # currently colab TPU only supports gcs paths\n",
        "batch_size = 256\n",
        "epochs = 25\n",
        "\n",
        "# use TPU\n",
        "with strategy.scope():\n",
        "  # input is int32 tensor with shape (sequence_length, word_length)\n",
        "  inputs = tf.keras.layers.Input(shape=(sequence_length, word_length), dtype=tf.int32)\n",
        "  x = RETVecIntToBinary(sequence_length=sequence_length, word_length=word_length)(inputs)\n",
        "  x = RETVecEmbedding(model=retvec_model_dir)(x)\n",
        "\n",
        "  # build the rest of the model\n",
        "  x = layers.Bidirectional(layers.LSTM(64, return_sequences=True))(x)\n",
        "  x = layers.Bidirectional(layers.LSTM(64))(x)\n",
        "  outputs = layers.Dense(NUM_CLASSES, activation='sigmoid')(x)\n",
        "  model = tf.keras.Model(inputs, outputs)\n",
        "  model.summary()\n",
        "\n",
        "  model.compile('adam', 'binary_crossentropy', ['acc'])\n",
        "  history = model.fit(x_train, y_train, epochs=epochs, batch_size=batch_size,\n",
        "                      validation_data=(x_test, y_test))"
      ],
      "metadata": {
        "colab": {
          "base_uri": "https://localhost:8080/"
        },
        "id": "LUzjZXZ--e5H",
        "outputId": "0e19b6e4-b88a-40d9-8444-3adf5cecaa6b"
      },
      "execution_count": 19,
      "outputs": [
        {
          "output_type": "stream",
          "name": "stderr",
          "text": [
            "WARNING:tensorflow:No training configuration found in save file, so the model was *not* compiled. Compile it manually.\n"
          ]
        },
        {
          "output_type": "stream",
          "name": "stdout",
          "text": [
            "Model: \"model_1\"\n",
            "_________________________________________________________________\n",
            " Layer (type)                Output Shape              Param #   \n",
            "=================================================================\n",
            " input_2 (InputLayer)        [(None, 128, 16)]         0         \n",
            "                                                                 \n",
            " ret_vec_int_to_binary_1 (R  (None, 128, 16, 24)       0         \n",
            " ETVecIntToBinary)                                               \n",
            "                                                                 \n",
            " ret_vec_embedding_1 (RETVe  (None, 128, 256)          230144    \n",
            " cEmbedding)                                                     \n",
            "                                                                 \n",
            " bidirectional_2 (Bidirecti  (None, 128, 128)          164352    \n",
            " onal)                                                           \n",
            "                                                                 \n",
            " bidirectional_3 (Bidirecti  (None, 128)               98816     \n",
            " onal)                                                           \n",
            "                                                                 \n",
            " dense_1 (Dense)             (None, 28)                3612      \n",
            "                                                                 \n",
            "=================================================================\n",
            "Total params: 496924 (1.90 MB)\n",
            "Trainable params: 266780 (1.02 MB)\n",
            "Non-trainable params: 230144 (899.00 KB)\n",
            "_________________________________________________________________\n",
            "Epoch 1/25\n",
            "170/170 [==============================] - 42s 121ms/step - loss: 0.1708 - acc: 0.2827 - val_loss: 0.1474 - val_acc: 0.2959\n",
            "Epoch 2/25\n",
            "170/170 [==============================] - 11s 64ms/step - loss: 0.1478 - acc: 0.2955 - val_loss: 0.1443 - val_acc: 0.2959\n",
            "Epoch 3/25\n",
            "170/170 [==============================] - 11s 68ms/step - loss: 0.1420 - acc: 0.3297 - val_loss: 0.1360 - val_acc: 0.3575\n",
            "Epoch 4/25\n",
            "170/170 [==============================] - 11s 62ms/step - loss: 0.1354 - acc: 0.3607 - val_loss: 0.1314 - val_acc: 0.3717\n",
            "Epoch 5/25\n",
            "170/170 [==============================] - 11s 63ms/step - loss: 0.1315 - acc: 0.3757 - val_loss: 0.1273 - val_acc: 0.3893\n",
            "Epoch 6/25\n",
            "170/170 [==============================] - 11s 67ms/step - loss: 0.1277 - acc: 0.3958 - val_loss: 0.1245 - val_acc: 0.4024\n",
            "Epoch 7/25\n",
            "170/170 [==============================] - 11s 62ms/step - loss: 0.1243 - acc: 0.4169 - val_loss: 0.1205 - val_acc: 0.4315\n",
            "Epoch 8/25\n",
            "170/170 [==============================] - 11s 63ms/step - loss: 0.1206 - acc: 0.4334 - val_loss: 0.1178 - val_acc: 0.4468\n",
            "Epoch 9/25\n",
            "170/170 [==============================] - 11s 64ms/step - loss: 0.1179 - acc: 0.4447 - val_loss: 0.1156 - val_acc: 0.4516\n",
            "Epoch 10/25\n",
            "170/170 [==============================] - 11s 64ms/step - loss: 0.1157 - acc: 0.4528 - val_loss: 0.1136 - val_acc: 0.4655\n",
            "Epoch 11/25\n",
            "170/170 [==============================] - 11s 63ms/step - loss: 0.1138 - acc: 0.4591 - val_loss: 0.1126 - val_acc: 0.4608\n",
            "Epoch 12/25\n",
            "170/170 [==============================] - 12s 73ms/step - loss: 0.1115 - acc: 0.4691 - val_loss: 0.1102 - val_acc: 0.4691\n",
            "Epoch 13/25\n",
            "170/170 [==============================] - 11s 64ms/step - loss: 0.1097 - acc: 0.4768 - val_loss: 0.1098 - val_acc: 0.4728\n",
            "Epoch 14/25\n",
            "170/170 [==============================] - 11s 63ms/step - loss: 0.1081 - acc: 0.4831 - val_loss: 0.1085 - val_acc: 0.4806\n",
            "Epoch 15/25\n",
            "170/170 [==============================] - 11s 65ms/step - loss: 0.1064 - acc: 0.4896 - val_loss: 0.1068 - val_acc: 0.4854\n",
            "Epoch 16/25\n",
            "170/170 [==============================] - 11s 63ms/step - loss: 0.1052 - acc: 0.4951 - val_loss: 0.1067 - val_acc: 0.4824\n",
            "Epoch 17/25\n",
            "170/170 [==============================] - 11s 64ms/step - loss: 0.1037 - acc: 0.4998 - val_loss: 0.1065 - val_acc: 0.4822\n",
            "Epoch 18/25\n",
            "170/170 [==============================] - 11s 65ms/step - loss: 0.1022 - acc: 0.5053 - val_loss: 0.1046 - val_acc: 0.4918\n",
            "Epoch 19/25\n",
            "170/170 [==============================] - 11s 63ms/step - loss: 0.1010 - acc: 0.5102 - val_loss: 0.1047 - val_acc: 0.4911\n",
            "Epoch 20/25\n",
            "170/170 [==============================] - 11s 66ms/step - loss: 0.0997 - acc: 0.5140 - val_loss: 0.1033 - val_acc: 0.4973\n",
            "Epoch 21/25\n",
            "170/170 [==============================] - 11s 65ms/step - loss: 0.0987 - acc: 0.5198 - val_loss: 0.1051 - val_acc: 0.4924\n",
            "Epoch 22/25\n",
            "170/170 [==============================] - 11s 62ms/step - loss: 0.0978 - acc: 0.5210 - val_loss: 0.1030 - val_acc: 0.5027\n",
            "Epoch 23/25\n",
            "170/170 [==============================] - 12s 69ms/step - loss: 0.0968 - acc: 0.5266 - val_loss: 0.1023 - val_acc: 0.5001\n",
            "Epoch 24/25\n",
            "170/170 [==============================] - 11s 67ms/step - loss: 0.0954 - acc: 0.5309 - val_loss: 0.1021 - val_acc: 0.5045\n",
            "Epoch 25/25\n",
            "170/170 [==============================] - 11s 62ms/step - loss: 0.0948 - acc: 0.5334 - val_loss: 0.1025 - val_acc: 0.5025\n"
          ]
        }
      ]
    },
    {
      "cell_type": "code",
      "source": [
        "# visualize the training curves\n",
        "plt.plot(history.history['acc'])\n",
        "plt.plot(history.history['val_acc'])\n",
        "plt.legend(['acc', 'val_acc'])\n",
        "plt.title(f'Accuracy')\n",
        "plt.show()"
      ],
      "metadata": {
        "colab": {
          "base_uri": "https://localhost:8080/",
          "height": 452
        },
        "id": "fLYBe3Yvsdqq",
        "outputId": "9199edc4-7c8e-464b-9a6c-7a8e0610930e"
      },
      "execution_count": 20,
      "outputs": [
        {
          "output_type": "display_data",
          "data": {
            "text/plain": [
              "<Figure size 640x480 with 1 Axes>"
            ],
            "image/png": "[encoded data removed]"
          },
          "metadata": {}
        }
      ]
    },
    {
      "cell_type": "markdown",
      "source": [
        "## Test Model\n",
        "\n",
        "Let's test our model on some examples, noting that we have to preprocess our inputs before feeding them to the model."
      ],
      "metadata": {
        "id": "qRnwfkjatMOV"
      }
    },
    {
      "cell_type": "code",
      "source": [
        "def preprocess_text(text):\n",
        "    # we need to tokenize our inputs and convert them into integer codepoints\n",
        "    # before passing them to the model\n",
        "    text = tf.constant([txt])\n",
        "    text = whitespace_tokenizer.tokenize(text)\n",
        "    text = text.to_tensor(default_value=\"\", shape=(text.shape[0], sequence_length))\n",
        "    text = integerizer.integerize(text)\n",
        "    return text\n",
        "\n",
        "def predict_emotions(txt, threshold=0.5):\n",
        "    # recall it is multi-class so we need to get all prediction above a threshold (0.5)\n",
        "    preds = model(preprocess_text(text))[0]\n",
        "    out = 0\n",
        "    for i in range(NUM_CLASSES):\n",
        "        if preds[i] > threshold:\n",
        "            emotion_name = CLASSES[i]\n",
        "            emotion_prob = round(float(preds[i]) * 100, 1)\n",
        "            print(f\"{emotion_name} ({emotion_prob})%\")\n",
        "            out += 1\n",
        "    if not out:\n",
        "        print(\"neutral\")"
      ],
      "metadata": {
        "id": "So39n-nKrd_K"
      },
      "execution_count": 22,
      "outputs": []
    },
    {
      "cell_type": "code",
      "source": [
        "txt = \"I enjoy having a good icecream.\"\n",
        "predict_emotions(txt)"
      ],
      "metadata": {
        "id": "isWJPbWf-h4R",
        "colab": {
          "base_uri": "https://localhost:8080/"
        },
        "outputId": "d7fe825c-0ee1-412f-9919-64f35ef9c718"
      },
      "execution_count": 23,
      "outputs": [
        {
          "output_type": "stream",
          "name": "stdout",
          "text": [
            "joy (84.5)%\n"
          ]
        }
      ]
    },
    {
      "cell_type": "code",
      "source": [
        "# the model works even with typos, substitutions, and emojis!\n",
        "txt = \"I enjoy hving a g00d ic3cream!!! 🍦\"\n",
        "predict_emotions(txt)"
      ],
      "metadata": {
        "colab": {
          "base_uri": "https://localhost:8080/"
        },
        "id": "twyBz-_lvGyb",
        "outputId": "e79754c3-e414-425d-be6b-7d68b2eaadb2"
      },
      "execution_count": 24,
      "outputs": [
        {
          "output_type": "stream",
          "name": "stdout",
          "text": [
            "joy (85.9)%\n"
          ]
        }
      ]
    }
  ]
}